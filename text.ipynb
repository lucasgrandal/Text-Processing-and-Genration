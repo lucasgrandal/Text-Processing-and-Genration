{
 "cells": [
  {
   "cell_type": "markdown",
   "id": "d90d1bda-3c36-454b-9495-4da13a17857f",
   "metadata": {},
   "source": [
    "### Load libraries"
   ]
  },
  {
   "cell_type": "code",
   "execution_count": 3,
   "id": "b1f65d93-f0c9-4df6-be76-00fdd4ccbd8f",
   "metadata": {},
   "outputs": [],
   "source": [
    "import torch\n",
    "from torchtext.data.utils import get_tokenizer\n",
    "from torchtext.vocab import build_vocab_from_iterator\n",
    "import os\n",
    "import re\n",
    "from torch import nn, optim\n",
    "import torch.nn.functional as F\n",
    "from datetime import datetime\n",
    "from torch.utils.data import DataLoader, TensorDataset\n",
    "import matplotlib.pyplot as plt\n",
    "from collections import Counter\n",
    "from nltk.util import ngrams\n",
    "import numpy as np\n",
    "import nltk\n",
    "from nltk.corpus import stopwords\n",
    "from nltk import pos_tag\n",
    "from nltk.tokenize import word_tokenize\n",
    "from collections import defaultdict\n",
    "from sklearn.metrics import confusion_matrix, classification_report"
   ]
  },
  {
   "cell_type": "code",
   "execution_count": null,
   "id": "24c812b0-102e-487b-bd86-6e72db1bd373",
   "metadata": {},
   "outputs": [],
   "source": [
    "# Set the seed for reproducibility\n",
    "seed = 265\n",
    "torch.manual_seed(seed)"
   ]
  },
  {
   "cell_type": "markdown",
   "id": "5827647f-04b3-4159-9fc6-f4ba52154bab",
   "metadata": {},
   "source": [
    "### Load data"
   ]
  },
  {
   "cell_type": "code",
   "execution_count": 4,
   "id": "e92ea829-0243-4d51-8204-388776f9e188",
   "metadata": {},
   "outputs": [],
   "source": [
    "train_paths = [\n",
    "    '/Users/angelgarealamas/Desktop/project3/inf265_v24_project03_data/data_train/candide.txt',\n",
    "    '/Users/angelgarealamas/Desktop/project3/inf265_v24_project03_data/data_train/dracula.txt',\n",
    "    '/Users/angelgarealamas/Desktop/project3/inf265_v24_project03_data/data_train/enchiridion.txt',\n",
    "    '/Users/angelgarealamas/Desktop/project3/inf265_v24_project03_data/data_train/grimm_fairy_tales.txt',\n",
    "    '/Users/angelgarealamas/Desktop/project3/inf265_v24_project03_data/data_train/Heimskringla.txt',\n",
    "    '/Users/angelgarealamas/Desktop/project3/inf265_v24_project03_data/data_train/manual_of_gardening.txt',\n",
    "    '/Users/angelgarealamas/Desktop/project3/inf265_v24_project03_data/data_train/meditations.txt',\n",
    "    '/Users/angelgarealamas/Desktop/project3/inf265_v24_project03_data/data_train/miserables.txt',\n",
    "    '/Users/angelgarealamas/Desktop/project3/inf265_v24_project03_data/data_train/poirot_investigates.txt',\n",
    "    '/Users/angelgarealamas/Desktop/project3/inf265_v24_project03_data/data_train/the_adventures_of_sherlock_holmes.txt',\n",
    "    '/Users/angelgarealamas/Desktop/project3/inf265_v24_project03_data/data_train/the_monomaniac.txt',\n",
    "    '/Users/angelgarealamas/Desktop/project3/inf265_v24_project03_data/data_train/under_fire.txt',\n",
    "    '/Users/angelgarealamas/Desktop/project3/inf265_v24_project03_data/data_train/war_and_peace.txt'\n",
    "]\n",
    "val_path = ['/Users/angelgarealamas/Desktop/project3/inf265_v24_project03_data/data_val/a_study_in_scarlet.txt']\n",
    "test_path = [ '/Users/angelgarealamas/Desktop/project3/inf265_v24_project03_data/data_test/Twenty_Thousand_Leagues_under_the_Sea.txt']\n"
   ]
  },
  {
   "cell_type": "markdown",
   "id": "5637d043-5a0e-4c29-ac6a-3c6cdadf8ed3",
   "metadata": {},
   "source": [
    "### General Functions"
   ]
  },
  {
   "cell_type": "code",
   "execution_count": 5,
   "id": "9e4cc935-2ad3-4375-a8ee-7970a0e46d2b",
   "metadata": {},
   "outputs": [],
   "source": [
    "# Initialize constants and tokenizer\n",
    "TOKENIZER_EN = get_tokenizer('basic_english')\n",
    "PATH_GENERATED = './generated/'\n",
    "MIN_FREQ = 100"
   ]
  },
  {
   "cell_type": "code",
   "execution_count": 6,
   "id": "8bf103e3-bfa5-4e65-afc5-91194dcbbe0c",
   "metadata": {},
   "outputs": [],
   "source": [
    "def read_files(file_paths):\n",
    "    \"\"\"\n",
    "    Read files from a list of file paths and return their contents as a list of lines.\n",
    "    \"\"\"\n",
    "    lines = []\n",
    "    for file_path in file_paths:\n",
    "        try:\n",
    "            with open(file_path, 'r', encoding='utf-8') as file:\n",
    "                lines.extend(file.readlines())\n",
    "        except Exception as e:\n",
    "            print(f\"Failed to read {file_path}: {str(e)}\")\n",
    "    return lines\n",
    "\n",
    "\n",
    "def tokenize(lines, tokenizer=TOKENIZER_EN):\n",
    "    \"\"\"\n",
    "    Tokenize the list of lines\n",
    "    \"\"\"\n",
    "    list_text = []\n",
    "    for line in lines:\n",
    "        list_text += tokenizer(line)\n",
    "    return list_text\n",
    "\n",
    "\n",
    "def yield_tokens(lines, tokenizer=TOKENIZER_EN):\n",
    "    \"\"\"\n",
    "    Yield tokens, ignoring names and digits to build vocabulary\n",
    "    \"\"\"\n",
    "    # Match any word containing digit\n",
    "    no_digits = '\\w*[0-9]+\\w*'\n",
    "    # Match word containing a uppercase \n",
    "    no_names = '\\w*[A-Z]+\\w*'\n",
    "    # Match any sequence containing more than one space\n",
    "    no_spaces = '\\s+'\n",
    "    \n",
    "    for line in lines:\n",
    "        line = re.sub(no_digits, ' ', line)\n",
    "        line = re.sub(no_names, ' ', line)\n",
    "        line = re.sub(no_spaces, ' ', line)\n",
    "        yield tokenizer(line)\n",
    "\n",
    "def count_freqs(words, vocab):\n",
    "    \"\"\"\n",
    "    Count occurrences of each word in vocabulary in the data\n",
    "    \n",
    "    Useful to get some insight on the data and to compute loss weights\n",
    "    \"\"\"\n",
    "    freqs = torch.zeros(len(vocab), dtype=torch.int)\n",
    "    for w in words:\n",
    "        freqs[vocab[w]] += 1\n",
    "    return freqs\n",
    "\n",
    "def create_vocabulary(lines, min_freq=MIN_FREQ):\n",
    "    \"\"\"\n",
    "    Create a vocabulary (list of known tokens) from a list of strings\n",
    "    \"\"\"\n",
    "    # vocab contains the vocabulary found in the data, associating an index to each word\n",
    "    vocab = build_vocab_from_iterator(yield_tokens(lines), min_freq=min_freq, specials=[\"<unk>\"])\n",
    "    # Since we removed all words with an uppercase when building the vocabulary, we skipped the word \"I\"\n",
    "    vocab.append_token(\"i\")\n",
    "    # Value of default index. This index will be returned when OOV (Out Of Vocabulary) token is queried.\n",
    "    vocab.set_default_index(vocab[\"<unk>\"])\n",
    "    return vocab"
   ]
  },
  {
   "cell_type": "markdown",
   "id": "fe624bcb-0c98-4a4e-867f-d25f0f6625ab",
   "metadata": {},
   "source": [
    "### Read and tokenize"
   ]
  },
  {
   "cell_type": "code",
   "execution_count": 7,
   "id": "2ea277eb-2ad3-4c3a-ae6a-135f7c445a25",
   "metadata": {},
   "outputs": [
    {
     "name": "stdout",
     "output_type": "stream",
     "text": [
      "Total number of lines train: 268380\n",
      "Total number of tokens train: 2684706\n",
      "Total number of lines val: 4649\n",
      "Total number of tokens val: 49526\n",
      "Total number of lines test: 12696\n",
      "Total number of tokens test: 124152\n"
     ]
    }
   ],
   "source": [
    "# Read and tokenize training data\n",
    "train_lines = read_files(train_paths)\n",
    "train_tokens = tokenize(train_lines)\n",
    "\n",
    "# Read and tokenize validation data\n",
    "val_lines = read_files(val_path)\n",
    "val_tokens = tokenize(val_lines)\n",
    "\n",
    "# Read and tokenize test data\n",
    "test_lines = read_files(test_path)\n",
    "test_tokens = tokenize(test_lines)\n",
    "\n",
    "# Show some basic statistics\n",
    "print(f\"Total number of lines train: {len(train_lines)}\")\n",
    "print(f\"Total number of tokens train: {len(train_tokens)}\")\n",
    "\n",
    "print(f\"Total number of lines val: {len(val_lines)}\")\n",
    "print(f\"Total number of tokens val: {len(val_tokens)}\")\n",
    "\n",
    "print(f\"Total number of lines test: {len(test_lines)}\")\n",
    "print(f\"Total number of tokens test: {len(test_tokens)}\")"
   ]
  },
  {
   "cell_type": "markdown",
   "id": "27cba21b-1dd7-423c-b304-84f76f9cbda1",
   "metadata": {},
   "source": [
    "### Create vocabulary"
   ]
  },
  {
   "cell_type": "code",
   "execution_count": 8,
   "id": "3ecf6918-d7ac-4f40-ad0a-04bc0c65b986",
   "metadata": {},
   "outputs": [
    {
     "name": "stdout",
     "output_type": "stream",
     "text": [
      "Total number of tokens in the training dataset: 2684706\n",
      "Number of distinct tokens in the training dataset: 52105\n",
      "Size of the vocabulary (words appearing at least 100 times): 1880\n"
     ]
    }
   ],
   "source": [
    "VOCAB_FNAME = \"vocabulary.pt\"\n",
    "# Load vocabulary if you have already generated it\n",
    "# Otherwise, create it and save it\n",
    "if os.path.isfile(PATH_GENERATED + VOCAB_FNAME):\n",
    "    train_vocab = torch.load(PATH_GENERATED + VOCAB_FNAME)\n",
    "else:\n",
    "    # Create vocabulary based on the words in the training dataset\n",
    "    train_vocab = create_vocabulary(train_lines, MIN_FREQ)\n",
    "    torch.save(train_vocab, PATH_GENERATED + VOCAB_FNAME)\n",
    "    \n",
    "\n",
    "# Count the frequency of each word in the vocabulary\n",
    "train_freqs = count_freqs(train_tokens, train_vocab)\n",
    "\n",
    "# Calculate and display the desired statistics\n",
    "total_tokens_train = len(train_tokens)  # Total number of tokens in the training dataset\n",
    "distinct_tokens_train = len(set(train_tokens))  # Number of distinct tokens in the training dataset\n",
    "vocab_size = len(train_vocab)  # Size of the vocabulary\n",
    "\n",
    "# Displaying the calculated statistics\n",
    "print(f\"Total number of tokens in the training dataset: {total_tokens_train}\")\n",
    "print(f\"Number of distinct tokens in the training dataset: {distinct_tokens_train}\")\n",
    "print(f\"Size of the vocabulary (words appearing at least {MIN_FREQ} times): {vocab_size}\")"
   ]
  },
  {
   "cell_type": "markdown",
   "id": "3ffa04e2-6209-4fb6-82f1-8293e7730d2c",
   "metadata": {},
   "source": [
    "### Analyze vocabulary"
   ]
  },
  {
   "cell_type": "code",
   "execution_count": 9,
   "id": "fb352127-97de-4d8d-bf7d-b0e2f9e56207",
   "metadata": {},
   "outputs": [
    {
     "name": "stdout",
     "output_type": "stream",
     "text": [
      "\n",
      "Word Frequencies:\n",
      ",: 182537\n",
      "the: 151278\n",
      ".: 123727\n",
      "and: 82289\n",
      "of: 65661\n",
      "to: 62763\n",
      "a: 49230\n",
      "in: 41477\n",
      "he: 37167\n",
      "that: 31052\n",
      "\n",
      "Vocabulary covers 83.84% of the total words in the dataset\n"
     ]
    },
    {
     "data": {
      "image/png": "[encoded data removed]",
      "text/plain": [
       "<Figure size 640x480 with 1 Axes>"
      ]
     },
     "metadata": {},
     "output_type": "display_data"
    },
    {
     "data": {
      "image/png": "[encoded data removed]",
      "text/plain": [
       "<Figure size 640x480 with 1 Axes>"
      ]
     },
     "metadata": {},
     "output_type": "display_data"
    },
    {
     "name": "stdout",
     "output_type": "stream",
     "text": [
      "\n",
      "Number of rare tokens (appearing only once): 21986\n",
      "Example rare tokens: ['nosepiece', 'narýshkina', 'joinings', 'billet-doux', 'canny', 'saint-saulve', 'luffa', '$24', 'lartif', 'post-haste']\n",
      "\n",
      "Number of common tokens (appearing at least 100 times): 2091\n",
      "Example common tokens: ['shoulder', 'quarters', 'walked', 'front', 'court', 'staff', 'chosen', 'public', 'repeated', 'friendship']\n"
     ]
    }
   ],
   "source": [
    "def analyze_vocabulary(tokens, vocab, min_freq):\n",
    "    # Count occurrences of each word in the token list\n",
    "    token_counts = {}\n",
    "    for token in tokens:\n",
    "        if token in token_counts:\n",
    "            token_counts[token] += 1\n",
    "        else:\n",
    "            token_counts[token] = 1\n",
    "\n",
    "    # Calculate the frequency of words in the vocabulary\n",
    "    vocab_freqs = {word: token_counts.get(word, 0) for word, idx in vocab.get_stoi().items()}\n",
    "\n",
    "    # Display word frequencies\n",
    "    print(\"\\nWord Frequencies:\")\n",
    "    for word, freq in sorted(vocab_freqs.items(), key=lambda item: item[1], reverse=True)[:10]:  # top 10 words\n",
    "        print(f\"{word}: {freq}\")\n",
    "\n",
    "    # Calculate and display vocabulary coverage\n",
    "    total_words = sum(token_counts.values())\n",
    "    covered_words = sum(vocab_freqs.values())\n",
    "    coverage = (covered_words / total_words) * 100\n",
    "    print(f\"\\nVocabulary covers {coverage:.2f}% of the total words in the dataset\")\n",
    "\n",
    "    # Analyze token lengths\n",
    "    token_lengths = [len(token) for token in tokens]\n",
    "    plt.figure()\n",
    "    plt.hist(token_lengths, bins=range(1, max(token_lengths) + 1), edgecolor='black')\n",
    "    plt.title('Token Length Distribution')\n",
    "    plt.xlabel('Length of Token')\n",
    "    plt.ylabel('Frequency')\n",
    "    plt.show()\n",
    "\n",
    "    # Frequency distribution of tokens\n",
    "    freq_values = list(token_counts.values())\n",
    "    plt.figure()\n",
    "    plt.hist(freq_values, bins=range(1, max(freq_values) + 1, max(freq_values) // 50), log=True, edgecolor='black')\n",
    "    plt.title('Token Frequency Distribution')\n",
    "    plt.xlabel('Frequency of Token')\n",
    "    plt.ylabel('Number of Tokens')\n",
    "    plt.show()\n",
    "\n",
    "    # Information about rare and common tokens\n",
    "    rare_tokens = {word for word, freq in token_counts.items() if freq == 1}\n",
    "    common_tokens = {word for word, freq in token_counts.items() if freq >= 100}\n",
    "\n",
    "    print(f\"\\nNumber of rare tokens (appearing only once): {len(rare_tokens)}\")\n",
    "    print(f\"Example rare tokens: {list(rare_tokens)[:10]}\")  # showing 10 rare tokens\n",
    "    print(f\"\\nNumber of common tokens (appearing at least 100 times): {len(common_tokens)}\")\n",
    "    print(f\"Example common tokens: {list(common_tokens)[:10]}\")  # showing 10 common tokens\n",
    "\n",
    "    return vocab_freqs, token_counts\n",
    "\n",
    "# Apply the function to the training data\n",
    "train_vocab_freqs, train_token_counts = analyze_vocabulary(train_tokens, train_vocab, MIN_FREQ)"
   ]
  },
  {
   "cell_type": "code",
   "execution_count": 10,
   "id": "04a71638-8584-4c96-95e1-a8b461ee6981",
   "metadata": {},
   "outputs": [
    {
     "data": {
      "image/png": "[encoded data removed]",
      "text/plain": [
       "<Figure size 640x480 with 1 Axes>"
      ]
     },
     "metadata": {},
     "output_type": "display_data"
    },
    {
     "name": "stdout",
     "output_type": "stream",
     "text": [
      "\n",
      "Example sentence with a rare word:\n",
      "it is the independence of personality—free will.\n",
      "\n",
      "Example sentence with a common word:\n",
      "conscious.\n",
      "\n",
      "Most Common Bigrams:\n",
      "(',', 'and'): 35260\n",
      "('of', 'the'): 17655\n",
      "('in', 'the'): 12133\n",
      "('.', 'the'): 11791\n",
      "('to', 'the'): 8279\n",
      "(',', 'the'): 7643\n",
      "('.', 'he'): 7192\n",
      "('on', 'the'): 5849\n",
      "('and', 'the'): 5746\n",
      "('.', 'i'): 5709\n"
     ]
    },
    {
     "data": {
      "image/png": "[encoded data removed]",
      "text/plain": [
       "<Figure size 640x480 with 1 Axes>"
      ]
     },
     "metadata": {},
     "output_type": "display_data"
    },
    {
     "name": "stdout",
     "output_type": "stream",
     "text": [
      "\n",
      "Entropy of the dataset: 9.42 bits per word\n"
     ]
    }
   ],
   "source": [
    "def analyze_text_complexity(tokens, vocab):\n",
    "    # Calculate and plot cumulative coverage by vocabulary\n",
    "    token_frequency = Counter(tokens)\n",
    "    ordered_tokens = sorted(token_frequency.items(), key=lambda x: x[1], reverse=True)\n",
    "    \n",
    "    cumulative_tokens = np.cumsum([freq for _, freq in ordered_tokens])\n",
    "    total_tokens = cumulative_tokens[-1]\n",
    "    cumulative_coverage = cumulative_tokens / total_tokens\n",
    "\n",
    "    plt.figure()\n",
    "    plt.plot(cumulative_coverage)\n",
    "    plt.title('Cumulative Coverage by Vocabulary Size')\n",
    "    plt.xlabel('Vocabulary Size')\n",
    "    plt.ylabel('Cumulative Coverage of Tokens')\n",
    "    plt.grid(True)\n",
    "    plt.show()\n",
    "\n",
    "    # Sample usage of rare and common words\n",
    "    rare_words = {word for word, freq in token_frequency.items() if freq == 1}\n",
    "    common_words = {word for word, freq in token_frequency.items() if freq > 100}\n",
    "    sample_sentences = {}\n",
    "    for line in train_lines:\n",
    "        line_tokens = TOKENIZER_EN(line)\n",
    "        if rare_words.intersection(line_tokens):\n",
    "            sample_sentences['rare'] = line.strip()\n",
    "        if common_words.intersection(line_tokens):\n",
    "            sample_sentences['common'] = line.strip()\n",
    "\n",
    "    print(\"\\nExample sentence with a rare word:\")\n",
    "    print(sample_sentences.get('rare', 'No example available'))\n",
    "\n",
    "    print(\"\\nExample sentence with a common word:\")\n",
    "    print(sample_sentences.get('common', 'No example available'))\n",
    "\n",
    "    # Most common bigrams\n",
    "    bigrams = ngrams(tokens, 2)\n",
    "    most_common_bigrams = Counter(bigrams).most_common(10)\n",
    "    print(\"\\nMost Common Bigrams:\")\n",
    "    for bigram, freq in most_common_bigrams:\n",
    "        print(f\"{bigram}: {freq}\")\n",
    "\n",
    "    # Zipf's Law visualization\n",
    "    ranks = range(1, len(ordered_tokens) + 1)\n",
    "    frequencies = [freq for _, freq in ordered_tokens]\n",
    "    \n",
    "    plt.figure()\n",
    "    plt.loglog(ranks, frequencies, marker=\"o\")\n",
    "    plt.title('Word Frequencies (Zipf\\'s Law)')\n",
    "    plt.xlabel('Rank')\n",
    "    plt.ylabel('Frequency')\n",
    "    plt.show()\n",
    "\n",
    "    # Calculate entropy\n",
    "    probabilities = [freq / total_tokens for freq in frequencies]\n",
    "    entropy = -sum(p * np.log2(p) for p in probabilities if p > 0)\n",
    "    print(f\"\\nEntropy of the dataset: {entropy:.2f} bits per word\")\n",
    "\n",
    "# Execute the complex analysis\n",
    "analyze_text_complexity(train_tokens, train_vocab)\n"
   ]
  },
  {
   "cell_type": "code",
   "execution_count": 11,
   "id": "f8c75b77-1afe-4859-8f8b-89ce1a9b2f1e",
   "metadata": {},
   "outputs": [
    {
     "name": "stderr",
     "output_type": "stream",
     "text": [
      "[nltk_data] Downloading package averaged_perceptron_tagger to\n",
      "[nltk_data]     /Users/angelgarealamas/nltk_data...\n",
      "[nltk_data]   Package averaged_perceptron_tagger is already up-to-\n",
      "[nltk_data]       date!\n",
      "[nltk_data] Downloading package punkt to\n",
      "[nltk_data]     /Users/angelgarealamas/nltk_data...\n",
      "[nltk_data]   Package punkt is already up-to-date!\n",
      "[nltk_data] Downloading package stopwords to\n",
      "[nltk_data]     /Users/angelgarealamas/nltk_data...\n",
      "[nltk_data]   Package stopwords is already up-to-date!\n"
     ]
    },
    {
     "name": "stdout",
     "output_type": "stream",
     "text": [
      "was: 29046 times\n",
      "had: 20159 times\n",
      "being: 1678 times\n",
      "have: 10205 times\n",
      "been: 5446 times\n",
      "having: 1272 times\n",
      "were: 8219 times\n",
      "is: 19965 times\n",
      "are: 8800 times\n",
      "has: 3817 times\n",
      "am: 2169 times\n",
      "\n",
      "Common contexts for 'am':\n",
      "Displaying 5 of 2169 matches:\n",
      "is for the best in this world , for i am infinitely more touched by your extre\n",
      " girls , and nature s masterpiece ? i am so weak that i cannot stand , said pa\n",
      "my part i shall give it to nobody , i am dying . oh , pangloss ! cried candide\n",
      "blood and fury ! answered the other i am a sailor and born at batavia . four t\n",
      "loss , get me a little wine and oil i am dying . this concussion of the earth \n",
      "\n",
      "Common contexts for 'is':\n",
      "Displaying 5 of 19965 matches:\n",
      "logy . he proved admirably that there is no effect without a cause , and that \n",
      " best of all possible baronesses . it is demonstrable , said he , that things \n",
      "or all being created for an end , all is necessarily for the best end . observ\n",
      "consequently they who assert that all is well have said a foolish thing , they\n",
      "ish thing , they should have said all is for the best . candide listened atten\n",
      "\n",
      "Common contexts for 'are':\n",
      "Displaying 5 of 8800 matches:\n",
      "ings cannot be otherwise than as they are for all being created for an end , al\n",
      "tacles thus we have spectacles . legs are visibly designed for stockings and we\n",
      " and of your merit never pay anything are you not five feet five inches high ? \n",
      "r such a man as you to want money men are only born to assist one another . you\n",
      "only born to assist one another . you are right , said candide this is what i w\n",
      "\n",
      "Common contexts for 'was':\n",
      "Displaying 5 of 29046 matches:\n",
      "candide i how candide was brought up in a magnificent castle , \n",
      " in a magnificent castle , and how he was expelled thence . in a castle of west\n",
      "most gentle manners . his countenance was a true picture of his soul . he combi\n",
      "ent with simplicity of spirit , which was the reason , i apprehend , of his bei\n",
      "ough the injuries of time . the baron was one of the most powerful lords in wes\n",
      "\n",
      "Common contexts for 'were':\n",
      "Displaying 5 of 8219 matches:\n",
      " a pack of hounds at need his grooms were his huntsmen and the curate of the v\n",
      "kings and we have stockings . stones were made to be hewn , and to construct c\n",
      "e ought to be the best lodged . pigs were made to be eaten therefore we eat po\n",
      "eck quite down to his rump . as they were going to proceed to a third whipping\n",
      "ry . at length , while the two kings were causing te deum to be sung each in h\n",
      "\n",
      "Common contexts for 'being':\n",
      "Displaying 5 of 1678 matches:\n",
      "as the reason , i apprehend , of his being called candide . the old servants of\n",
      "e otherwise than as they are for all being created for an end , all is necessar\n",
      "oncluded that after the happiness of being born of baron of thunder-ten-tronckh\n",
      "kkeeper . at the end of two months , being obliged to go to lisbon about some m\n",
      " , no one commanded . the anabaptist being upon deck bore a hand when a brutish\n",
      "\n",
      "Common contexts for 'been':\n",
      "Displaying 5 of 5446 matches:\n",
      " of the family suspected him to have been the son of the baron s sister , by a\n",
      "ady would never marry because he had been able to prove only seventy-one quart\n",
      "rest of his genealogical tree having been lost through the injuries of time . \n",
      "st end . observe , that the nose has been formed to bear spectacles thus we ha\n",
      " next he addressed was a man who had been haranguing a large assembly for a wh\n",
      "\n",
      "Common contexts for 'have':\n",
      "Displaying 5 of 10205 matches:\n",
      "vants of the family suspected him to have been the son of the baron s sister ,\n",
      "en formed to bear spectacles thus we have spectacles . legs are visibly design\n",
      "isibly designed for stockings and we have stockings . stones were made to be h\n",
      "tly they who assert that all is well have said a foolish thing , they should h\n",
      "e said a foolish thing , they should have said all is for the best . candide l\n",
      "\n",
      "Common contexts for 'has':\n",
      "Displaying 5 of 3817 matches:\n",
      "he best end . observe , that the nose has been formed to bear spectacles thus w\n",
      "o construct castles therefore my lord has a magnificent castle for the greatest\n",
      "lf before him , cried master pangloss has well said that all is for the best in\n",
      "his terrible plight ! what misfortune has happened to you ? why are you no long\n",
      "he most magnificent of castles ? what has become of miss cunegonde , the pearl \n",
      "\n",
      "Common contexts for 'had':\n",
      "Displaying 5 of 20159 matches:\n",
      "tronckh , lived a youth , whom nature had endowed with the most gentle manners \n",
      "ung lady would never marry because he had been able to prove only seventy-one q\n",
      " lords in westphalia , for his castle had not only a gate , but windows . his g\n",
      "extremely beautiful , though he never had the courage to tell her so . he concl\n",
      "y and very docile . as miss cunegonde had a great disposition for the sciences \n",
      "\n",
      "Common contexts for 'having':\n",
      "Displaying 5 of 1272 matches:\n",
      ", the rest of his genealogical tree having been lost through the injuries of t\n",
      "alled waldberghofftrarbk-dikdorff , having no money , dying of hunger and fati\n",
      "lled and breathing their last after having satisfied the natural wants of bulg\n",
      " him when he arrived in holland but having heard that everybody was rich in th\n",
      "n by the bulgarian soldiers , after having been violated by many they broke th\n"
     ]
    }
   ],
   "source": [
    "# Ensure that NLTK resources are downloaded\n",
    "nltk.download('averaged_perceptron_tagger')\n",
    "nltk.download('punkt')\n",
    "nltk.download('stopwords')\n",
    "\n",
    "def analyze_verbs(tokens, verb_list):\n",
    "    # Filter tokens to only include words (lowercase for uniformity)\n",
    "    words = [word.lower() for word in tokens if word.isalpha()]\n",
    "\n",
    "    # Get parts of speech for each word\n",
    "    tagged_words = pos_tag(words)\n",
    "\n",
    "    # Dictionary to hold counts of each verb form\n",
    "    verb_forms = defaultdict(int)\n",
    "\n",
    "    # Count occurrences of each form of the verbs 'be' and 'have'\n",
    "    for word, tag in tagged_words:\n",
    "        if word in verb_list:\n",
    "            verb_forms[word] += 1\n",
    "\n",
    "    # Display the counts of each verb form\n",
    "    for verb, count in verb_forms.items():\n",
    "        print(f\"{verb}: {count} times\")\n",
    "\n",
    "    # Find and display common contexts of these verbs\n",
    "    text = nltk.Text(tokens)\n",
    "    for verb in verb_list:\n",
    "        print(f\"\\nCommon contexts for '{verb}':\")\n",
    "        text.concordance(verb, lines=5)  # Display 5 examples of each\n",
    "\n",
    "# List of common forms of 'be' and 'have'\n",
    "be_forms = ['am', 'is', 'are', 'was', 'were', 'being', 'been']\n",
    "have_forms = ['have', 'has', 'had', 'having']\n",
    "\n",
    "# Collect all relevant forms in one list for analysis\n",
    "all_verbs = be_forms + have_forms\n",
    "\n",
    "# Execute the verb analysis\n",
    "analyze_verbs(train_tokens, all_verbs)\n"
   ]
  },
  {
   "cell_type": "markdown",
   "id": "b2e12e14-97c2-49cf-9c25-c4db3f3f0c00",
   "metadata": {},
   "source": [
    "### Train and accuracy functions"
   ]
  },
  {
   "cell_type": "code",
   "execution_count": 38,
   "id": "559be90f-f3c8-4067-9f1a-9d48f4aa640d",
   "metadata": {},
   "outputs": [],
   "source": [
    "def set_device(device=None):\n",
    "    \"\"\"\n",
    "    Helper function to set device\n",
    "    \"\"\"\n",
    "    if device is None:\n",
    "        device = torch.device('cuda' if torch.cuda.is_available() else 'cpu')\n",
    "    print(f\"On device: {device}\")\n",
    "    return device\n",
    "\n",
    "\n",
    "def train(n_epochs, optimizer, model, loss_fn, train_loader, device=None):\n",
    "    device = set_device(device)\n",
    "\n",
    "    n_batch = len(train_loader)\n",
    "    losses_train = []\n",
    "    model.train()\n",
    "    optimizer.zero_grad(set_to_none=True)\n",
    "\n",
    "    for epoch in range(1, n_epochs + 1):\n",
    "\n",
    "        loss_train = 0.0\n",
    "        for contexts, targets in train_loader:\n",
    "\n",
    "            contexts = contexts.to(device=device)\n",
    "            targets = targets.to(device=device)\n",
    "\n",
    "            outputs = model(contexts)\n",
    "\n",
    "            loss = loss_fn(outputs, targets)\n",
    "            loss.backward()\n",
    "            optimizer.step()\n",
    "            optimizer.zero_grad()\n",
    "\n",
    "            loss_train += loss.item()\n",
    "\n",
    "        losses_train.append(loss_train / n_batch)\n",
    "\n",
    "        if epoch == 1 or epoch % 5 == 0:\n",
    "            print('{}  |  Epoch {}  |  Training loss {:.5f}'.format(\n",
    "                datetime.now().time(), epoch, loss_train / n_batch))\n",
    "    return losses_train\n",
    "\n",
    "def compute_accuracy(model, loader, device=None):\n",
    "\n",
    "    model.eval()  # Set the model to evaluation mode\n",
    "    device = device or torch.device('cuda' if torch.cuda.is_available() else 'cpu')\n",
    "    model.to(device)\n",
    "\n",
    "    correct, total = 0, 0\n",
    "\n",
    "    with torch.no_grad():\n",
    "        for contexts, targets in loader:\n",
    "            contexts = contexts.to(device)  # Move data to the appropriate device\n",
    "            targets = targets.to(device)    # Move targets to the appropriate device\n",
    "\n",
    "            outputs = model(contexts)\n",
    "            _, predicted = torch.max(outputs, dim=1)  # Get the class with the highest probability\n",
    "\n",
    "            total += targets.size(0)                 # Increment the total count\n",
    "            correct += (predicted == targets).sum().item()  # Increment the correct count\n",
    "\n",
    "    accuracy = correct / total  # Calculate accuracy\n",
    "    return accuracy"
   ]
  },
  {
   "cell_type": "markdown",
   "id": "b58393b4-0006-42fe-ae07-b38223854616",
   "metadata": {},
   "source": [
    "### Compute labels and create the datasets"
   ]
  },
  {
   "cell_type": "code",
   "execution_count": 39,
   "id": "af69dabe-0134-46ad-9a39-60361ed20530",
   "metadata": {},
   "outputs": [],
   "source": [
    "def compute_label(w):\n",
    "    if w == '<unk>':\n",
    "        return 0\n",
    "    elif w in [',', '.', '(', ')', '?', '!']:\n",
    "        return 1\n",
    "    else:\n",
    "        return 2\n",
    "\n",
    "# It must execute after having created the vocabulary\n",
    "MAP_TARGET = {\n",
    "    train_vocab[w]: compute_label(w) for w in train_vocab.get_itos()\n",
    "}\n",
    "\n",
    "CONTEXT_SIZE = 3\n",
    "\n",
    "def create_dataset(text, vocab, context_size=3, map_target=MAP_TARGET):\n",
    "    \"\"\"\n",
    "    Create a pytorch dataset of context / target pairs from a text\n",
    "    \"\"\"\n",
    "    \n",
    "    n_text = len(text)\n",
    "    \n",
    "    # Transform the text into a list of integers, ensuring that only words in the vocabulary are included\n",
    "    txt = [vocab[token] if token in vocab.get_stoi() else vocab['<unk>'] for token in text]\n",
    "\n",
    "    contexts = []\n",
    "    targets = []\n",
    "    for i in range(n_text - context_size):\n",
    "        # Context son las 'context_size' palabras antes de la palabra objetivo\n",
    "        context = txt[i:i + context_size]\n",
    "        # Palabra usada como target\n",
    "        target = txt[i + context_size]\n",
    "\n",
    "        # Asegurarse de que el target está en map_target\n",
    "        if target in map_target:\n",
    "            targets.append(map_target[target])\n",
    "            contexts.append(torch.tensor(context, dtype=torch.long))\n",
    "\n",
    "    contexts = torch.stack(contexts)\n",
    "    targets = torch.tensor(targets, dtype=torch.long)\n",
    "    # Create a PyTorch dataset with these context/target pairs\n",
    "    return TensorDataset(contexts, targets)\n",
    "\n",
    "\n",
    "\n",
    "def load_dataset(words, vocab, fname):\n",
    "    # Asegurarse de que el directorio existe\n",
    "    if not os.path.exists(PATH_GENERATED):\n",
    "        os.makedirs(PATH_GENERATED)\n",
    "    \n",
    "    # Si ya está generado\n",
    "    if os.path.isfile(PATH_GENERATED + fname):\n",
    "        dataset = torch.load(PATH_GENERATED + fname)\n",
    "    else:\n",
    "        # Crear dataset de contexto/target basado en la lista de strings\n",
    "        dataset = create_dataset(words, vocab)\n",
    "        torch.save(dataset, PATH_GENERATED + fname)\n",
    "    return dataset\n",
    "\n"
   ]
  },
  {
   "cell_type": "markdown",
   "id": "c17ba22a-1a8b-4f12-8cf3-8a0b8a315d56",
   "metadata": {},
   "source": [
    "### Task 2.1: Word embedding"
   ]
  },
  {
   "cell_type": "code",
   "execution_count": 58,
   "id": "6ac3d9b9-a3cf-4359-8ddf-5e9977d05c19",
   "metadata": {},
   "outputs": [],
   "source": [
    "data_train = load_dataset(train_tokens, train_vocab, \"data_train.pt\")\n",
    "data_val = load_dataset(val_tokens, train_vocab, \"data_val.pt\")\n",
    "data_test = load_dataset(test_tokens, train_vocab, \"data_test.pt\")\n"
   ]
  },
  {
   "cell_type": "code",
   "execution_count": 74,
   "id": "2d3c267e-0adc-474c-85f7-a42e82ae837e",
   "metadata": {},
   "outputs": [],
   "source": [
    "data_train = torch.load(\"/Users/angelgarealamas/Desktop/3old/generated/data_train.pt\")\n",
    "data_val = torch.load(\"/Users/angelgarealamas/Desktop/3old/generated/data_val.pt\")\n",
    "data_test = torch.load(\"/Users/angelgarealamas/Desktop/3old/generated/data_test.pt\") "
   ]
  },
  {
   "cell_type": "code",
   "execution_count": 75,
   "id": "193ec3e6-23f3-43cc-8c4c-a34540360784",
   "metadata": {},
   "outputs": [
    {
     "name": "stdout",
     "output_type": "stream",
     "text": [
      "Using device: cpu\n"
     ]
    }
   ],
   "source": [
    "# Set device\n",
    "device = torch.device(\"cuda\" if torch.cuda.is_available() else \"cpu\")\n",
    "print(f\"Using device: {device}\")\n",
    "\n",
    "# Initialize the model\n",
    "embedding_layer = nn.Embedding(len(train_vocab), 50)  \n",
    "# Randomly initialize embedding weights or load your pretrained weights here\n",
    "embedding_layer.weight.data.copy_(torch.randn(embedding_layer.weight.shape))\n",
    "\n",
    "# Data loaders\n",
    "batch_size = 64\n",
    "train_loader = DataLoader(data_train, batch_size=batch_size, shuffle=True)\n",
    "val_loader = DataLoader(data_val, batch_size=batch_size, shuffle=False)\n",
    "test_loader = DataLoader(data_test, batch_size=batch_size, shuffle=False)\n",
    "\n",
    "# Set the number of epochs\n",
    "n_epochs = 10"
   ]
  },
  {
   "cell_type": "code",
   "execution_count": 78,
   "id": "ecf87618-b467-475e-9cf9-cf22a31ade1e",
   "metadata": {},
   "outputs": [],
   "source": [
    "class TransformerEmbedder(nn.Module):\n",
    "    def __init__(self, vocab_size, embedding_dim=50, nhead=5, num_encoder_layers=3, dropout=0.1):\n",
    "        super().__init__()\n",
    "        self.embedding = nn.Embedding(vocab_size, embedding_dim)\n",
    "        encoder_layer = nn.TransformerEncoderLayer(d_model=embedding_dim, nhead=nhead, dropout=dropout)\n",
    "        self.transformer_encoder = nn.TransformerEncoder(encoder_layer, num_layers=num_encoder_layers)\n",
    "\n",
    "    def forward(self, x, mask=None):\n",
    "        embedded = self.embedding(x)  # Embedding layer output\n",
    "        if mask is not None:\n",
    "            embedded = embedded.transpose(0, 1)  # Transformer expects (sequence_length, batch_size, embedding_dim)\n",
    "            output = self.transformer_encoder(embedded, src_key_padding_mask=mask)\n",
    "            output = output.transpose(0, 1)  # Back to (batch_size, sequence_length, embedding_dim)\n",
    "        else:\n",
    "            embedded = embedded.transpose(0, 1)  # Transformer expects (sequence_length, batch_size, embedding_dim)\n",
    "            output = self.transformer_encoder(embedded)\n",
    "            output = output.transpose(0, 1)  # Back to (batch_size, sequence_length, embedding_dim)\n",
    "        return output[:, -1, :]  # Return embeddings of the last token in the sequence\n",
    "\n",
    "# Example usage of the TransformerEmbedder\n",
    "vocab_size = len(train_vocab)  # Use your actual vocabulary size\n",
    "embedding_dim = 15  # Example embedding size, adjust as needed\n",
    "model1 = TransformerEmbedder(vocab_size, embedding_dim)\n"
   ]
  },
  {
   "cell_type": "code",
   "execution_count": 79,
   "id": "6bf0ec12-f1c4-4ae2-9095-5c5362c76473",
   "metadata": {},
   "outputs": [
    {
     "name": "stdout",
     "output_type": "stream",
     "text": [
      "On device: cpu\n"
     ]
    },
    {
     "ename": "KeyboardInterrupt",
     "evalue": "",
     "output_type": "error",
     "traceback": [
      "\u001b[0;31m---------------------------------------------------------------------------\u001b[0m",
      "\u001b[0;31mKeyboardInterrupt\u001b[0m                         Traceback (most recent call last)",
      "Cell \u001b[0;32mIn[79], line 9\u001b[0m\n\u001b[1;32m      6\u001b[0m optimizer \u001b[38;5;241m=\u001b[39m optim\u001b[38;5;241m.\u001b[39mAdam(\u001b[38;5;28mfilter\u001b[39m(\u001b[38;5;28;01mlambda\u001b[39;00m p: p\u001b[38;5;241m.\u001b[39mrequires_grad, model1\u001b[38;5;241m.\u001b[39mparameters()), lr\u001b[38;5;241m=\u001b[39m\u001b[38;5;241m0.001\u001b[39m)\n\u001b[1;32m      8\u001b[0m \u001b[38;5;66;03m# Start training\u001b[39;00m\n\u001b[0;32m----> 9\u001b[0m losses_train \u001b[38;5;241m=\u001b[39m train(n_epochs, optimizer, model1, loss_fn, train_loader, device)\n\u001b[1;32m     11\u001b[0m \u001b[38;5;66;03m# After training you can evaluate the model\u001b[39;00m\n\u001b[1;32m     12\u001b[0m \u001b[38;5;28mprint\u001b[39m(\u001b[38;5;124m\"\u001b[39m\u001b[38;5;124mTesting model\u001b[39m\u001b[38;5;124m\"\u001b[39m)\n",
      "Cell \u001b[0;32mIn[38], line 27\u001b[0m, in \u001b[0;36mtrain\u001b[0;34m(n_epochs, optimizer, model, loss_fn, train_loader, device)\u001b[0m\n\u001b[1;32m     24\u001b[0m contexts \u001b[38;5;241m=\u001b[39m contexts\u001b[38;5;241m.\u001b[39mto(device\u001b[38;5;241m=\u001b[39mdevice)\n\u001b[1;32m     25\u001b[0m targets \u001b[38;5;241m=\u001b[39m targets\u001b[38;5;241m.\u001b[39mto(device\u001b[38;5;241m=\u001b[39mdevice)\n\u001b[0;32m---> 27\u001b[0m outputs \u001b[38;5;241m=\u001b[39m model(contexts)\n\u001b[1;32m     29\u001b[0m loss \u001b[38;5;241m=\u001b[39m loss_fn(outputs, targets)\n\u001b[1;32m     30\u001b[0m loss\u001b[38;5;241m.\u001b[39mbackward()\n",
      "File \u001b[0;32m~/anaconda3/lib/python3.11/site-packages/torch/nn/modules/module.py:1511\u001b[0m, in \u001b[0;36mModule._wrapped_call_impl\u001b[0;34m(self, *args, **kwargs)\u001b[0m\n\u001b[1;32m   1509\u001b[0m     \u001b[38;5;28;01mreturn\u001b[39;00m \u001b[38;5;28mself\u001b[39m\u001b[38;5;241m.\u001b[39m_compiled_call_impl(\u001b[38;5;241m*\u001b[39margs, \u001b[38;5;241m*\u001b[39m\u001b[38;5;241m*\u001b[39mkwargs)  \u001b[38;5;66;03m# type: ignore[misc]\u001b[39;00m\n\u001b[1;32m   1510\u001b[0m \u001b[38;5;28;01melse\u001b[39;00m:\n\u001b[0;32m-> 1511\u001b[0m     \u001b[38;5;28;01mreturn\u001b[39;00m \u001b[38;5;28mself\u001b[39m\u001b[38;5;241m.\u001b[39m_call_impl(\u001b[38;5;241m*\u001b[39margs, \u001b[38;5;241m*\u001b[39m\u001b[38;5;241m*\u001b[39mkwargs)\n",
      "File \u001b[0;32m~/anaconda3/lib/python3.11/site-packages/torch/nn/modules/module.py:1520\u001b[0m, in \u001b[0;36mModule._call_impl\u001b[0;34m(self, *args, **kwargs)\u001b[0m\n\u001b[1;32m   1515\u001b[0m \u001b[38;5;66;03m# If we don't have any hooks, we want to skip the rest of the logic in\u001b[39;00m\n\u001b[1;32m   1516\u001b[0m \u001b[38;5;66;03m# this function, and just call forward.\u001b[39;00m\n\u001b[1;32m   1517\u001b[0m \u001b[38;5;28;01mif\u001b[39;00m \u001b[38;5;129;01mnot\u001b[39;00m (\u001b[38;5;28mself\u001b[39m\u001b[38;5;241m.\u001b[39m_backward_hooks \u001b[38;5;129;01mor\u001b[39;00m \u001b[38;5;28mself\u001b[39m\u001b[38;5;241m.\u001b[39m_backward_pre_hooks \u001b[38;5;129;01mor\u001b[39;00m \u001b[38;5;28mself\u001b[39m\u001b[38;5;241m.\u001b[39m_forward_hooks \u001b[38;5;129;01mor\u001b[39;00m \u001b[38;5;28mself\u001b[39m\u001b[38;5;241m.\u001b[39m_forward_pre_hooks\n\u001b[1;32m   1518\u001b[0m         \u001b[38;5;129;01mor\u001b[39;00m _global_backward_pre_hooks \u001b[38;5;129;01mor\u001b[39;00m _global_backward_hooks\n\u001b[1;32m   1519\u001b[0m         \u001b[38;5;129;01mor\u001b[39;00m _global_forward_hooks \u001b[38;5;129;01mor\u001b[39;00m _global_forward_pre_hooks):\n\u001b[0;32m-> 1520\u001b[0m     \u001b[38;5;28;01mreturn\u001b[39;00m forward_call(\u001b[38;5;241m*\u001b[39margs, \u001b[38;5;241m*\u001b[39m\u001b[38;5;241m*\u001b[39mkwargs)\n\u001b[1;32m   1522\u001b[0m \u001b[38;5;28;01mtry\u001b[39;00m:\n\u001b[1;32m   1523\u001b[0m     result \u001b[38;5;241m=\u001b[39m \u001b[38;5;28;01mNone\u001b[39;00m\n",
      "Cell \u001b[0;32mIn[78], line 17\u001b[0m, in \u001b[0;36mTransformerEmbedder.forward\u001b[0;34m(self, x, mask)\u001b[0m\n\u001b[1;32m     15\u001b[0m \u001b[38;5;28;01melse\u001b[39;00m:\n\u001b[1;32m     16\u001b[0m     embedded \u001b[38;5;241m=\u001b[39m embedded\u001b[38;5;241m.\u001b[39mtranspose(\u001b[38;5;241m0\u001b[39m, \u001b[38;5;241m1\u001b[39m)  \u001b[38;5;66;03m# Transformer expects (sequence_length, batch_size, embedding_dim)\u001b[39;00m\n\u001b[0;32m---> 17\u001b[0m     output \u001b[38;5;241m=\u001b[39m \u001b[38;5;28mself\u001b[39m\u001b[38;5;241m.\u001b[39mtransformer_encoder(embedded)\n\u001b[1;32m     18\u001b[0m     output \u001b[38;5;241m=\u001b[39m output\u001b[38;5;241m.\u001b[39mtranspose(\u001b[38;5;241m0\u001b[39m, \u001b[38;5;241m1\u001b[39m)  \u001b[38;5;66;03m# Back to (batch_size, sequence_length, embedding_dim)\u001b[39;00m\n\u001b[1;32m     19\u001b[0m \u001b[38;5;28;01mreturn\u001b[39;00m output[:, \u001b[38;5;241m-\u001b[39m\u001b[38;5;241m1\u001b[39m, :]\n",
      "File \u001b[0;32m~/anaconda3/lib/python3.11/site-packages/torch/nn/modules/module.py:1511\u001b[0m, in \u001b[0;36mModule._wrapped_call_impl\u001b[0;34m(self, *args, **kwargs)\u001b[0m\n\u001b[1;32m   1509\u001b[0m     \u001b[38;5;28;01mreturn\u001b[39;00m \u001b[38;5;28mself\u001b[39m\u001b[38;5;241m.\u001b[39m_compiled_call_impl(\u001b[38;5;241m*\u001b[39margs, \u001b[38;5;241m*\u001b[39m\u001b[38;5;241m*\u001b[39mkwargs)  \u001b[38;5;66;03m# type: ignore[misc]\u001b[39;00m\n\u001b[1;32m   1510\u001b[0m \u001b[38;5;28;01melse\u001b[39;00m:\n\u001b[0;32m-> 1511\u001b[0m     \u001b[38;5;28;01mreturn\u001b[39;00m \u001b[38;5;28mself\u001b[39m\u001b[38;5;241m.\u001b[39m_call_impl(\u001b[38;5;241m*\u001b[39margs, \u001b[38;5;241m*\u001b[39m\u001b[38;5;241m*\u001b[39mkwargs)\n",
      "File \u001b[0;32m~/anaconda3/lib/python3.11/site-packages/torch/nn/modules/module.py:1520\u001b[0m, in \u001b[0;36mModule._call_impl\u001b[0;34m(self, *args, **kwargs)\u001b[0m\n\u001b[1;32m   1515\u001b[0m \u001b[38;5;66;03m# If we don't have any hooks, we want to skip the rest of the logic in\u001b[39;00m\n\u001b[1;32m   1516\u001b[0m \u001b[38;5;66;03m# this function, and just call forward.\u001b[39;00m\n\u001b[1;32m   1517\u001b[0m \u001b[38;5;28;01mif\u001b[39;00m \u001b[38;5;129;01mnot\u001b[39;00m (\u001b[38;5;28mself\u001b[39m\u001b[38;5;241m.\u001b[39m_backward_hooks \u001b[38;5;129;01mor\u001b[39;00m \u001b[38;5;28mself\u001b[39m\u001b[38;5;241m.\u001b[39m_backward_pre_hooks \u001b[38;5;129;01mor\u001b[39;00m \u001b[38;5;28mself\u001b[39m\u001b[38;5;241m.\u001b[39m_forward_hooks \u001b[38;5;129;01mor\u001b[39;00m \u001b[38;5;28mself\u001b[39m\u001b[38;5;241m.\u001b[39m_forward_pre_hooks\n\u001b[1;32m   1518\u001b[0m         \u001b[38;5;129;01mor\u001b[39;00m _global_backward_pre_hooks \u001b[38;5;129;01mor\u001b[39;00m _global_backward_hooks\n\u001b[1;32m   1519\u001b[0m         \u001b[38;5;129;01mor\u001b[39;00m _global_forward_hooks \u001b[38;5;129;01mor\u001b[39;00m _global_forward_pre_hooks):\n\u001b[0;32m-> 1520\u001b[0m     \u001b[38;5;28;01mreturn\u001b[39;00m forward_call(\u001b[38;5;241m*\u001b[39margs, \u001b[38;5;241m*\u001b[39m\u001b[38;5;241m*\u001b[39mkwargs)\n\u001b[1;32m   1522\u001b[0m \u001b[38;5;28;01mtry\u001b[39;00m:\n\u001b[1;32m   1523\u001b[0m     result \u001b[38;5;241m=\u001b[39m \u001b[38;5;28;01mNone\u001b[39;00m\n",
      "File \u001b[0;32m~/anaconda3/lib/python3.11/site-packages/torch/nn/modules/transformer.py:391\u001b[0m, in \u001b[0;36mTransformerEncoder.forward\u001b[0;34m(self, src, mask, src_key_padding_mask, is_causal)\u001b[0m\n\u001b[1;32m    388\u001b[0m is_causal \u001b[38;5;241m=\u001b[39m _detect_is_causal_mask(mask, is_causal, seq_len)\n\u001b[1;32m    390\u001b[0m \u001b[38;5;28;01mfor\u001b[39;00m mod \u001b[38;5;129;01min\u001b[39;00m \u001b[38;5;28mself\u001b[39m\u001b[38;5;241m.\u001b[39mlayers:\n\u001b[0;32m--> 391\u001b[0m     output \u001b[38;5;241m=\u001b[39m mod(output, src_mask\u001b[38;5;241m=\u001b[39mmask, is_causal\u001b[38;5;241m=\u001b[39mis_causal, src_key_padding_mask\u001b[38;5;241m=\u001b[39msrc_key_padding_mask_for_layers)\n\u001b[1;32m    393\u001b[0m \u001b[38;5;28;01mif\u001b[39;00m convert_to_nested:\n\u001b[1;32m    394\u001b[0m     output \u001b[38;5;241m=\u001b[39m output\u001b[38;5;241m.\u001b[39mto_padded_tensor(\u001b[38;5;241m0.\u001b[39m, src\u001b[38;5;241m.\u001b[39msize())\n",
      "File \u001b[0;32m~/anaconda3/lib/python3.11/site-packages/torch/nn/modules/module.py:1511\u001b[0m, in \u001b[0;36mModule._wrapped_call_impl\u001b[0;34m(self, *args, **kwargs)\u001b[0m\n\u001b[1;32m   1509\u001b[0m     \u001b[38;5;28;01mreturn\u001b[39;00m \u001b[38;5;28mself\u001b[39m\u001b[38;5;241m.\u001b[39m_compiled_call_impl(\u001b[38;5;241m*\u001b[39margs, \u001b[38;5;241m*\u001b[39m\u001b[38;5;241m*\u001b[39mkwargs)  \u001b[38;5;66;03m# type: ignore[misc]\u001b[39;00m\n\u001b[1;32m   1510\u001b[0m \u001b[38;5;28;01melse\u001b[39;00m:\n\u001b[0;32m-> 1511\u001b[0m     \u001b[38;5;28;01mreturn\u001b[39;00m \u001b[38;5;28mself\u001b[39m\u001b[38;5;241m.\u001b[39m_call_impl(\u001b[38;5;241m*\u001b[39margs, \u001b[38;5;241m*\u001b[39m\u001b[38;5;241m*\u001b[39mkwargs)\n",
      "File \u001b[0;32m~/anaconda3/lib/python3.11/site-packages/torch/nn/modules/module.py:1520\u001b[0m, in \u001b[0;36mModule._call_impl\u001b[0;34m(self, *args, **kwargs)\u001b[0m\n\u001b[1;32m   1515\u001b[0m \u001b[38;5;66;03m# If we don't have any hooks, we want to skip the rest of the logic in\u001b[39;00m\n\u001b[1;32m   1516\u001b[0m \u001b[38;5;66;03m# this function, and just call forward.\u001b[39;00m\n\u001b[1;32m   1517\u001b[0m \u001b[38;5;28;01mif\u001b[39;00m \u001b[38;5;129;01mnot\u001b[39;00m (\u001b[38;5;28mself\u001b[39m\u001b[38;5;241m.\u001b[39m_backward_hooks \u001b[38;5;129;01mor\u001b[39;00m \u001b[38;5;28mself\u001b[39m\u001b[38;5;241m.\u001b[39m_backward_pre_hooks \u001b[38;5;129;01mor\u001b[39;00m \u001b[38;5;28mself\u001b[39m\u001b[38;5;241m.\u001b[39m_forward_hooks \u001b[38;5;129;01mor\u001b[39;00m \u001b[38;5;28mself\u001b[39m\u001b[38;5;241m.\u001b[39m_forward_pre_hooks\n\u001b[1;32m   1518\u001b[0m         \u001b[38;5;129;01mor\u001b[39;00m _global_backward_pre_hooks \u001b[38;5;129;01mor\u001b[39;00m _global_backward_hooks\n\u001b[1;32m   1519\u001b[0m         \u001b[38;5;129;01mor\u001b[39;00m _global_forward_hooks \u001b[38;5;129;01mor\u001b[39;00m _global_forward_pre_hooks):\n\u001b[0;32m-> 1520\u001b[0m     \u001b[38;5;28;01mreturn\u001b[39;00m forward_call(\u001b[38;5;241m*\u001b[39margs, \u001b[38;5;241m*\u001b[39m\u001b[38;5;241m*\u001b[39mkwargs)\n\u001b[1;32m   1522\u001b[0m \u001b[38;5;28;01mtry\u001b[39;00m:\n\u001b[1;32m   1523\u001b[0m     result \u001b[38;5;241m=\u001b[39m \u001b[38;5;28;01mNone\u001b[39;00m\n",
      "File \u001b[0;32m~/anaconda3/lib/python3.11/site-packages/torch/nn/modules/transformer.py:715\u001b[0m, in \u001b[0;36mTransformerEncoderLayer.forward\u001b[0;34m(self, src, src_mask, src_key_padding_mask, is_causal)\u001b[0m\n\u001b[1;32m    713\u001b[0m \u001b[38;5;28;01melse\u001b[39;00m:\n\u001b[1;32m    714\u001b[0m     x \u001b[38;5;241m=\u001b[39m \u001b[38;5;28mself\u001b[39m\u001b[38;5;241m.\u001b[39mnorm1(x \u001b[38;5;241m+\u001b[39m \u001b[38;5;28mself\u001b[39m\u001b[38;5;241m.\u001b[39m_sa_block(x, src_mask, src_key_padding_mask, is_causal\u001b[38;5;241m=\u001b[39mis_causal))\n\u001b[0;32m--> 715\u001b[0m     x \u001b[38;5;241m=\u001b[39m \u001b[38;5;28mself\u001b[39m\u001b[38;5;241m.\u001b[39mnorm2(x \u001b[38;5;241m+\u001b[39m \u001b[38;5;28mself\u001b[39m\u001b[38;5;241m.\u001b[39m_ff_block(x))\n\u001b[1;32m    717\u001b[0m \u001b[38;5;28;01mreturn\u001b[39;00m x\n",
      "File \u001b[0;32m~/anaconda3/lib/python3.11/site-packages/torch/nn/modules/transformer.py:730\u001b[0m, in \u001b[0;36mTransformerEncoderLayer._ff_block\u001b[0;34m(self, x)\u001b[0m\n\u001b[1;32m    729\u001b[0m \u001b[38;5;28;01mdef\u001b[39;00m \u001b[38;5;21m_ff_block\u001b[39m(\u001b[38;5;28mself\u001b[39m, x: Tensor) \u001b[38;5;241m-\u001b[39m\u001b[38;5;241m>\u001b[39m Tensor:\n\u001b[0;32m--> 730\u001b[0m     x \u001b[38;5;241m=\u001b[39m \u001b[38;5;28mself\u001b[39m\u001b[38;5;241m.\u001b[39mlinear2(\u001b[38;5;28mself\u001b[39m\u001b[38;5;241m.\u001b[39mdropout(\u001b[38;5;28mself\u001b[39m\u001b[38;5;241m.\u001b[39mactivation(\u001b[38;5;28mself\u001b[39m\u001b[38;5;241m.\u001b[39mlinear1(x))))\n\u001b[1;32m    731\u001b[0m     \u001b[38;5;28;01mreturn\u001b[39;00m \u001b[38;5;28mself\u001b[39m\u001b[38;5;241m.\u001b[39mdropout2(x)\n",
      "File \u001b[0;32m~/anaconda3/lib/python3.11/site-packages/torch/nn/modules/module.py:1511\u001b[0m, in \u001b[0;36mModule._wrapped_call_impl\u001b[0;34m(self, *args, **kwargs)\u001b[0m\n\u001b[1;32m   1509\u001b[0m     \u001b[38;5;28;01mreturn\u001b[39;00m \u001b[38;5;28mself\u001b[39m\u001b[38;5;241m.\u001b[39m_compiled_call_impl(\u001b[38;5;241m*\u001b[39margs, \u001b[38;5;241m*\u001b[39m\u001b[38;5;241m*\u001b[39mkwargs)  \u001b[38;5;66;03m# type: ignore[misc]\u001b[39;00m\n\u001b[1;32m   1510\u001b[0m \u001b[38;5;28;01melse\u001b[39;00m:\n\u001b[0;32m-> 1511\u001b[0m     \u001b[38;5;28;01mreturn\u001b[39;00m \u001b[38;5;28mself\u001b[39m\u001b[38;5;241m.\u001b[39m_call_impl(\u001b[38;5;241m*\u001b[39margs, \u001b[38;5;241m*\u001b[39m\u001b[38;5;241m*\u001b[39mkwargs)\n",
      "File \u001b[0;32m~/anaconda3/lib/python3.11/site-packages/torch/nn/modules/module.py:1520\u001b[0m, in \u001b[0;36mModule._call_impl\u001b[0;34m(self, *args, **kwargs)\u001b[0m\n\u001b[1;32m   1515\u001b[0m \u001b[38;5;66;03m# If we don't have any hooks, we want to skip the rest of the logic in\u001b[39;00m\n\u001b[1;32m   1516\u001b[0m \u001b[38;5;66;03m# this function, and just call forward.\u001b[39;00m\n\u001b[1;32m   1517\u001b[0m \u001b[38;5;28;01mif\u001b[39;00m \u001b[38;5;129;01mnot\u001b[39;00m (\u001b[38;5;28mself\u001b[39m\u001b[38;5;241m.\u001b[39m_backward_hooks \u001b[38;5;129;01mor\u001b[39;00m \u001b[38;5;28mself\u001b[39m\u001b[38;5;241m.\u001b[39m_backward_pre_hooks \u001b[38;5;129;01mor\u001b[39;00m \u001b[38;5;28mself\u001b[39m\u001b[38;5;241m.\u001b[39m_forward_hooks \u001b[38;5;129;01mor\u001b[39;00m \u001b[38;5;28mself\u001b[39m\u001b[38;5;241m.\u001b[39m_forward_pre_hooks\n\u001b[1;32m   1518\u001b[0m         \u001b[38;5;129;01mor\u001b[39;00m _global_backward_pre_hooks \u001b[38;5;129;01mor\u001b[39;00m _global_backward_hooks\n\u001b[1;32m   1519\u001b[0m         \u001b[38;5;129;01mor\u001b[39;00m _global_forward_hooks \u001b[38;5;129;01mor\u001b[39;00m _global_forward_pre_hooks):\n\u001b[0;32m-> 1520\u001b[0m     \u001b[38;5;28;01mreturn\u001b[39;00m forward_call(\u001b[38;5;241m*\u001b[39margs, \u001b[38;5;241m*\u001b[39m\u001b[38;5;241m*\u001b[39mkwargs)\n\u001b[1;32m   1522\u001b[0m \u001b[38;5;28;01mtry\u001b[39;00m:\n\u001b[1;32m   1523\u001b[0m     result \u001b[38;5;241m=\u001b[39m \u001b[38;5;28;01mNone\u001b[39;00m\n",
      "File \u001b[0;32m~/anaconda3/lib/python3.11/site-packages/torch/nn/modules/linear.py:116\u001b[0m, in \u001b[0;36mLinear.forward\u001b[0;34m(self, input)\u001b[0m\n\u001b[1;32m    115\u001b[0m \u001b[38;5;28;01mdef\u001b[39;00m \u001b[38;5;21mforward\u001b[39m(\u001b[38;5;28mself\u001b[39m, \u001b[38;5;28minput\u001b[39m: Tensor) \u001b[38;5;241m-\u001b[39m\u001b[38;5;241m>\u001b[39m Tensor:\n\u001b[0;32m--> 116\u001b[0m     \u001b[38;5;28;01mreturn\u001b[39;00m F\u001b[38;5;241m.\u001b[39mlinear(\u001b[38;5;28minput\u001b[39m, \u001b[38;5;28mself\u001b[39m\u001b[38;5;241m.\u001b[39mweight, \u001b[38;5;28mself\u001b[39m\u001b[38;5;241m.\u001b[39mbias)\n",
      "\u001b[0;31mKeyboardInterrupt\u001b[0m: "
     ]
    }
   ],
   "source": [
    "model1.to(device) # Send the model to the device\n",
    "\n",
    "# Define the loss function and optimizer\n",
    "loss_fn = nn.CrossEntropyLoss()\n",
    "optimizer = optim.Adam(filter(lambda p: p.requires_grad, model1.parameters()), lr=0.001)\n",
    "\n",
    "# Start training\n",
    "losses_train = train(n_epochs, optimizer, model1, loss_fn, train_loader, device)\n",
    "\n",
    "# Evaluate the model over the validation set\n",
    "print(\"Testing model\")\n",
    "model1_accuracy = compute_accuracy(model1, val_loader, device)\n",
    "print(f\"Test accuracy: {model1_accuracy}\")"
   ]
  },
  {
   "cell_type": "code",
   "execution_count": 80,
   "id": "bde3eaf8-2042-460e-b90d-5e4500a7227c",
   "metadata": {},
   "outputs": [
    {
     "name": "stdout",
     "output_type": "stream",
     "text": [
      "On device: cpu\n"
     ]
    },
    {
     "ename": "KeyboardInterrupt",
     "evalue": "",
     "output_type": "error",
     "traceback": [
      "\u001b[0;31m---------------------------------------------------------------------------\u001b[0m",
      "\u001b[0;31mKeyboardInterrupt\u001b[0m                         Traceback (most recent call last)",
      "Cell \u001b[0;32mIn[80], line 14\u001b[0m\n\u001b[1;32m     11\u001b[0m optimizer \u001b[38;5;241m=\u001b[39m optim\u001b[38;5;241m.\u001b[39mAdam(\u001b[38;5;28mfilter\u001b[39m(\u001b[38;5;28;01mlambda\u001b[39;00m p: p\u001b[38;5;241m.\u001b[39mrequires_grad, model2\u001b[38;5;241m.\u001b[39mparameters()), lr\u001b[38;5;241m=\u001b[39m\u001b[38;5;241m0.1\u001b[39m)\n\u001b[1;32m     13\u001b[0m \u001b[38;5;66;03m# Start training\u001b[39;00m\n\u001b[0;32m---> 14\u001b[0m losses_train \u001b[38;5;241m=\u001b[39m train(n_epochs, optimizer, model2, loss_fn, train_loader, device)\n\u001b[1;32m     16\u001b[0m \u001b[38;5;66;03m# After training you can evaluate the model\u001b[39;00m\n\u001b[1;32m     17\u001b[0m \u001b[38;5;28mprint\u001b[39m(\u001b[38;5;124m\"\u001b[39m\u001b[38;5;124mTesting model\u001b[39m\u001b[38;5;124m\"\u001b[39m)\n",
      "Cell \u001b[0;32mIn[38], line 30\u001b[0m, in \u001b[0;36mtrain\u001b[0;34m(n_epochs, optimizer, model, loss_fn, train_loader, device)\u001b[0m\n\u001b[1;32m     27\u001b[0m outputs \u001b[38;5;241m=\u001b[39m model(contexts)\n\u001b[1;32m     29\u001b[0m loss \u001b[38;5;241m=\u001b[39m loss_fn(outputs, targets)\n\u001b[0;32m---> 30\u001b[0m loss\u001b[38;5;241m.\u001b[39mbackward()\n\u001b[1;32m     31\u001b[0m optimizer\u001b[38;5;241m.\u001b[39mstep()\n\u001b[1;32m     32\u001b[0m optimizer\u001b[38;5;241m.\u001b[39mzero_grad()\n",
      "File \u001b[0;32m~/anaconda3/lib/python3.11/site-packages/torch/_tensor.py:522\u001b[0m, in \u001b[0;36mTensor.backward\u001b[0;34m(self, gradient, retain_graph, create_graph, inputs)\u001b[0m\n\u001b[1;32m    512\u001b[0m \u001b[38;5;28;01mif\u001b[39;00m has_torch_function_unary(\u001b[38;5;28mself\u001b[39m):\n\u001b[1;32m    513\u001b[0m     \u001b[38;5;28;01mreturn\u001b[39;00m handle_torch_function(\n\u001b[1;32m    514\u001b[0m         Tensor\u001b[38;5;241m.\u001b[39mbackward,\n\u001b[1;32m    515\u001b[0m         (\u001b[38;5;28mself\u001b[39m,),\n\u001b[0;32m   (...)\u001b[0m\n\u001b[1;32m    520\u001b[0m         inputs\u001b[38;5;241m=\u001b[39minputs,\n\u001b[1;32m    521\u001b[0m     )\n\u001b[0;32m--> 522\u001b[0m torch\u001b[38;5;241m.\u001b[39mautograd\u001b[38;5;241m.\u001b[39mbackward(\n\u001b[1;32m    523\u001b[0m     \u001b[38;5;28mself\u001b[39m, gradient, retain_graph, create_graph, inputs\u001b[38;5;241m=\u001b[39minputs\n\u001b[1;32m    524\u001b[0m )\n",
      "File \u001b[0;32m~/anaconda3/lib/python3.11/site-packages/torch/autograd/__init__.py:266\u001b[0m, in \u001b[0;36mbackward\u001b[0;34m(tensors, grad_tensors, retain_graph, create_graph, grad_variables, inputs)\u001b[0m\n\u001b[1;32m    261\u001b[0m     retain_graph \u001b[38;5;241m=\u001b[39m create_graph\n\u001b[1;32m    263\u001b[0m \u001b[38;5;66;03m# The reason we repeat the same comment below is that\u001b[39;00m\n\u001b[1;32m    264\u001b[0m \u001b[38;5;66;03m# some Python versions print out the first line of a multi-line function\u001b[39;00m\n\u001b[1;32m    265\u001b[0m \u001b[38;5;66;03m# calls in the traceback and some print out the last line\u001b[39;00m\n\u001b[0;32m--> 266\u001b[0m Variable\u001b[38;5;241m.\u001b[39m_execution_engine\u001b[38;5;241m.\u001b[39mrun_backward(  \u001b[38;5;66;03m# Calls into the C++ engine to run the backward pass\u001b[39;00m\n\u001b[1;32m    267\u001b[0m     tensors,\n\u001b[1;32m    268\u001b[0m     grad_tensors_,\n\u001b[1;32m    269\u001b[0m     retain_graph,\n\u001b[1;32m    270\u001b[0m     create_graph,\n\u001b[1;32m    271\u001b[0m     inputs,\n\u001b[1;32m    272\u001b[0m     allow_unreachable\u001b[38;5;241m=\u001b[39m\u001b[38;5;28;01mTrue\u001b[39;00m,\n\u001b[1;32m    273\u001b[0m     accumulate_grad\u001b[38;5;241m=\u001b[39m\u001b[38;5;28;01mTrue\u001b[39;00m,\n\u001b[1;32m    274\u001b[0m )\n",
      "\u001b[0;31mKeyboardInterrupt\u001b[0m: "
     ]
    }
   ],
   "source": [
    "# COnfigure hyperparameters\n",
    "vocab_size = len(train_vocab)  # Use your actual vocabulary size\n",
    "embedding_dim = 10  # Example embedding size, adjust as needed\n",
    "num_encoder_layers=2\n",
    "model2 = TransformerEmbedder(vocab_size, embedding_dim)\n",
    "\n",
    "model2.to(device)\n",
    "\n",
    "# Define the loss function and optimizer\n",
    "loss_fn = nn.CrossEntropyLoss()\n",
    "optimizer = optim.Adam(filter(lambda p: p.requires_grad, model2.parameters()), lr=0.1)\n",
    "\n",
    "# Start training\n",
    "losses_train = train(n_epochs, optimizer, model2, loss_fn, train_loader, device)\n",
    "\n",
    "# Evaluate the model over the validation set\n",
    "print(\"Testing model\")\n",
    "model2_accuracy = compute_accuracy(model2, val_loader, device)\n",
    "print(f\"Test accuracy: {model2_accuracy}\")\n"
   ]
  },
  {
   "cell_type": "code",
   "execution_count": 81,
   "id": "246ce71d-775b-47cf-b5b4-376d89bba1e3",
   "metadata": {},
   "outputs": [],
   "source": [
    "class SimpleEmbeddingNet(nn.Module):\n",
    "    def __init__(self, vocab_size, embedding_dim=50, hidden_dim=100):\n",
    "        super(SimpleEmbeddingNet, self).__init__()\n",
    "        self.embedding = nn.Embedding(vocab_size, embedding_dim)\n",
    "        self.fc = nn.Linear(embedding_dim, hidden_dim)\n",
    "        self.relu = nn.ReLU()\n",
    "        self.output = nn.Linear(hidden_dim, vocab_size)  # Output layer size is vocab_size for prediction\n",
    "\n",
    "    def forward(self, x):\n",
    "        x = self.embedding(x)  # Embed the input words\n",
    "        x = torch.mean(x, dim=1)  # Average the embeddings (simple pooling)\n",
    "        x = self.fc(x)\n",
    "        x = self.relu(x)\n",
    "        x = self.output(x)\n",
    "        return x"
   ]
  },
  {
   "cell_type": "code",
   "execution_count": 82,
   "id": "ed1126d6-fdcd-4105-83a2-20ba84b1b07c",
   "metadata": {},
   "outputs": [
    {
     "name": "stdout",
     "output_type": "stream",
     "text": [
      "On device: cpu\n"
     ]
    },
    {
     "ename": "KeyboardInterrupt",
     "evalue": "",
     "output_type": "error",
     "traceback": [
      "\u001b[0;31m---------------------------------------------------------------------------\u001b[0m",
      "\u001b[0;31mKeyboardInterrupt\u001b[0m                         Traceback (most recent call last)",
      "Cell \u001b[0;32mIn[82], line 14\u001b[0m\n\u001b[1;32m     11\u001b[0m optimizer \u001b[38;5;241m=\u001b[39m optim\u001b[38;5;241m.\u001b[39mAdam(model3\u001b[38;5;241m.\u001b[39mparameters(), lr\u001b[38;5;241m=\u001b[39m\u001b[38;5;241m0.001\u001b[39m)\n\u001b[1;32m     13\u001b[0m \u001b[38;5;66;03m# Iniciar el entrenamiento\u001b[39;00m\n\u001b[0;32m---> 14\u001b[0m losses_train \u001b[38;5;241m=\u001b[39m train(n_epochs, optimizer, model3, loss_fn, train_loader, device)\n\u001b[1;32m     16\u001b[0m \u001b[38;5;66;03m# Evaluar el modelo después del entrenamiento\u001b[39;00m\n\u001b[1;32m     17\u001b[0m \u001b[38;5;28mprint\u001b[39m(\u001b[38;5;124m\"\u001b[39m\u001b[38;5;124mEvaluando modelo\u001b[39m\u001b[38;5;124m\"\u001b[39m)\n",
      "Cell \u001b[0;32mIn[38], line 29\u001b[0m, in \u001b[0;36mtrain\u001b[0;34m(n_epochs, optimizer, model, loss_fn, train_loader, device)\u001b[0m\n\u001b[1;32m     25\u001b[0m targets \u001b[38;5;241m=\u001b[39m targets\u001b[38;5;241m.\u001b[39mto(device\u001b[38;5;241m=\u001b[39mdevice)\n\u001b[1;32m     27\u001b[0m outputs \u001b[38;5;241m=\u001b[39m model(contexts)\n\u001b[0;32m---> 29\u001b[0m loss \u001b[38;5;241m=\u001b[39m loss_fn(outputs, targets)\n\u001b[1;32m     30\u001b[0m loss\u001b[38;5;241m.\u001b[39mbackward()\n\u001b[1;32m     31\u001b[0m optimizer\u001b[38;5;241m.\u001b[39mstep()\n",
      "File \u001b[0;32m~/anaconda3/lib/python3.11/site-packages/torch/nn/modules/module.py:1511\u001b[0m, in \u001b[0;36mModule._wrapped_call_impl\u001b[0;34m(self, *args, **kwargs)\u001b[0m\n\u001b[1;32m   1509\u001b[0m     \u001b[38;5;28;01mreturn\u001b[39;00m \u001b[38;5;28mself\u001b[39m\u001b[38;5;241m.\u001b[39m_compiled_call_impl(\u001b[38;5;241m*\u001b[39margs, \u001b[38;5;241m*\u001b[39m\u001b[38;5;241m*\u001b[39mkwargs)  \u001b[38;5;66;03m# type: ignore[misc]\u001b[39;00m\n\u001b[1;32m   1510\u001b[0m \u001b[38;5;28;01melse\u001b[39;00m:\n\u001b[0;32m-> 1511\u001b[0m     \u001b[38;5;28;01mreturn\u001b[39;00m \u001b[38;5;28mself\u001b[39m\u001b[38;5;241m.\u001b[39m_call_impl(\u001b[38;5;241m*\u001b[39margs, \u001b[38;5;241m*\u001b[39m\u001b[38;5;241m*\u001b[39mkwargs)\n",
      "File \u001b[0;32m~/anaconda3/lib/python3.11/site-packages/torch/nn/modules/module.py:1520\u001b[0m, in \u001b[0;36mModule._call_impl\u001b[0;34m(self, *args, **kwargs)\u001b[0m\n\u001b[1;32m   1515\u001b[0m \u001b[38;5;66;03m# If we don't have any hooks, we want to skip the rest of the logic in\u001b[39;00m\n\u001b[1;32m   1516\u001b[0m \u001b[38;5;66;03m# this function, and just call forward.\u001b[39;00m\n\u001b[1;32m   1517\u001b[0m \u001b[38;5;28;01mif\u001b[39;00m \u001b[38;5;129;01mnot\u001b[39;00m (\u001b[38;5;28mself\u001b[39m\u001b[38;5;241m.\u001b[39m_backward_hooks \u001b[38;5;129;01mor\u001b[39;00m \u001b[38;5;28mself\u001b[39m\u001b[38;5;241m.\u001b[39m_backward_pre_hooks \u001b[38;5;129;01mor\u001b[39;00m \u001b[38;5;28mself\u001b[39m\u001b[38;5;241m.\u001b[39m_forward_hooks \u001b[38;5;129;01mor\u001b[39;00m \u001b[38;5;28mself\u001b[39m\u001b[38;5;241m.\u001b[39m_forward_pre_hooks\n\u001b[1;32m   1518\u001b[0m         \u001b[38;5;129;01mor\u001b[39;00m _global_backward_pre_hooks \u001b[38;5;129;01mor\u001b[39;00m _global_backward_hooks\n\u001b[1;32m   1519\u001b[0m         \u001b[38;5;129;01mor\u001b[39;00m _global_forward_hooks \u001b[38;5;129;01mor\u001b[39;00m _global_forward_pre_hooks):\n\u001b[0;32m-> 1520\u001b[0m     \u001b[38;5;28;01mreturn\u001b[39;00m forward_call(\u001b[38;5;241m*\u001b[39margs, \u001b[38;5;241m*\u001b[39m\u001b[38;5;241m*\u001b[39mkwargs)\n\u001b[1;32m   1522\u001b[0m \u001b[38;5;28;01mtry\u001b[39;00m:\n\u001b[1;32m   1523\u001b[0m     result \u001b[38;5;241m=\u001b[39m \u001b[38;5;28;01mNone\u001b[39;00m\n",
      "File \u001b[0;32m~/anaconda3/lib/python3.11/site-packages/torch/nn/modules/loss.py:1179\u001b[0m, in \u001b[0;36mCrossEntropyLoss.forward\u001b[0;34m(self, input, target)\u001b[0m\n\u001b[1;32m   1178\u001b[0m \u001b[38;5;28;01mdef\u001b[39;00m \u001b[38;5;21mforward\u001b[39m(\u001b[38;5;28mself\u001b[39m, \u001b[38;5;28minput\u001b[39m: Tensor, target: Tensor) \u001b[38;5;241m-\u001b[39m\u001b[38;5;241m>\u001b[39m Tensor:\n\u001b[0;32m-> 1179\u001b[0m     \u001b[38;5;28;01mreturn\u001b[39;00m F\u001b[38;5;241m.\u001b[39mcross_entropy(\u001b[38;5;28minput\u001b[39m, target, weight\u001b[38;5;241m=\u001b[39m\u001b[38;5;28mself\u001b[39m\u001b[38;5;241m.\u001b[39mweight,\n\u001b[1;32m   1180\u001b[0m                            ignore_index\u001b[38;5;241m=\u001b[39m\u001b[38;5;28mself\u001b[39m\u001b[38;5;241m.\u001b[39mignore_index, reduction\u001b[38;5;241m=\u001b[39m\u001b[38;5;28mself\u001b[39m\u001b[38;5;241m.\u001b[39mreduction,\n\u001b[1;32m   1181\u001b[0m                            label_smoothing\u001b[38;5;241m=\u001b[39m\u001b[38;5;28mself\u001b[39m\u001b[38;5;241m.\u001b[39mlabel_smoothing)\n",
      "File \u001b[0;32m~/anaconda3/lib/python3.11/site-packages/torch/nn/functional.py:3059\u001b[0m, in \u001b[0;36mcross_entropy\u001b[0;34m(input, target, weight, size_average, ignore_index, reduce, reduction, label_smoothing)\u001b[0m\n\u001b[1;32m   3057\u001b[0m \u001b[38;5;28;01mif\u001b[39;00m size_average \u001b[38;5;129;01mis\u001b[39;00m \u001b[38;5;129;01mnot\u001b[39;00m \u001b[38;5;28;01mNone\u001b[39;00m \u001b[38;5;129;01mor\u001b[39;00m reduce \u001b[38;5;129;01mis\u001b[39;00m \u001b[38;5;129;01mnot\u001b[39;00m \u001b[38;5;28;01mNone\u001b[39;00m:\n\u001b[1;32m   3058\u001b[0m     reduction \u001b[38;5;241m=\u001b[39m _Reduction\u001b[38;5;241m.\u001b[39mlegacy_get_string(size_average, reduce)\n\u001b[0;32m-> 3059\u001b[0m \u001b[38;5;28;01mreturn\u001b[39;00m torch\u001b[38;5;241m.\u001b[39m_C\u001b[38;5;241m.\u001b[39m_nn\u001b[38;5;241m.\u001b[39mcross_entropy_loss(\u001b[38;5;28minput\u001b[39m, target, weight, _Reduction\u001b[38;5;241m.\u001b[39mget_enum(reduction), ignore_index, label_smoothing)\n",
      "\u001b[0;31mKeyboardInterrupt\u001b[0m: "
     ]
    }
   ],
   "source": [
    "# Set model hyperparameters\n",
    "vocab_size = len(train_vocab)  # Assume train_vocab is your vocabulary\n",
    "embedding_dim = 50  # Embedding dimension\n",
    "hidden_dim = 100  # Hidden layer demansion\n",
    "model3 = SimpleEmbeddingNet(vocab_size, embedding_dim, hidden_dim)\n",
    "\n",
    "model3.to(device)  # Move the model to the device\n",
    "\n",
    "# Define loss fn and optimizer\n",
    "loss_fn = nn.CrossEntropyLoss()\n",
    "optimizer = optim.Adam(model3.parameters(), lr=0.001)\n",
    "\n",
    "# Start Tranining\n",
    "losses_train = train(n_epochs, optimizer, model3, loss_fn, train_loader, device)\n",
    "\n",
    "# Evaluate the model over the validation set\n",
    "print(\"Evaluando modelo\")\n",
    "model3_accuracy = compute_accuracy(model3, val_loader, device)\n",
    "print(f\"Precisión del modelo: {model3_accuracy}\")\n"
   ]
  },
  {
   "cell_type": "code",
   "execution_count": 83,
   "id": "bc5897b4-9e7b-4b22-8f97-9da561e4f19f",
   "metadata": {},
   "outputs": [
    {
     "name": "stdout",
     "output_type": "stream",
     "text": [
      "On device: cpu\n"
     ]
    },
    {
     "ename": "KeyboardInterrupt",
     "evalue": "",
     "output_type": "error",
     "traceback": [
      "\u001b[0;31m---------------------------------------------------------------------------\u001b[0m",
      "\u001b[0;31mKeyboardInterrupt\u001b[0m                         Traceback (most recent call last)",
      "Cell \u001b[0;32mIn[83], line 14\u001b[0m\n\u001b[1;32m     11\u001b[0m optimizer \u001b[38;5;241m=\u001b[39m optim\u001b[38;5;241m.\u001b[39mAdam(model4\u001b[38;5;241m.\u001b[39mparameters(), lr\u001b[38;5;241m=\u001b[39m\u001b[38;5;241m0.001\u001b[39m)\n\u001b[1;32m     13\u001b[0m \u001b[38;5;66;03m# Iniciar el entrenamiento\u001b[39;00m\n\u001b[0;32m---> 14\u001b[0m losses_train \u001b[38;5;241m=\u001b[39m train(n_epochs, optimizer, model4, loss_fn, train_loader, device)\n\u001b[1;32m     16\u001b[0m \u001b[38;5;66;03m# Evaluar el modelo después del entrenamiento\u001b[39;00m\n\u001b[1;32m     17\u001b[0m \u001b[38;5;28mprint\u001b[39m(\u001b[38;5;124m\"\u001b[39m\u001b[38;5;124mEvaluando modelo\u001b[39m\u001b[38;5;124m\"\u001b[39m)\n",
      "Cell \u001b[0;32mIn[38], line 31\u001b[0m, in \u001b[0;36mtrain\u001b[0;34m(n_epochs, optimizer, model, loss_fn, train_loader, device)\u001b[0m\n\u001b[1;32m     29\u001b[0m loss \u001b[38;5;241m=\u001b[39m loss_fn(outputs, targets)\n\u001b[1;32m     30\u001b[0m loss\u001b[38;5;241m.\u001b[39mbackward()\n\u001b[0;32m---> 31\u001b[0m optimizer\u001b[38;5;241m.\u001b[39mstep()\n\u001b[1;32m     32\u001b[0m optimizer\u001b[38;5;241m.\u001b[39mzero_grad()\n\u001b[1;32m     34\u001b[0m loss_train \u001b[38;5;241m+\u001b[39m\u001b[38;5;241m=\u001b[39m loss\u001b[38;5;241m.\u001b[39mitem()\n",
      "File \u001b[0;32m~/anaconda3/lib/python3.11/site-packages/torch/optim/optimizer.py:385\u001b[0m, in \u001b[0;36mOptimizer.profile_hook_step.<locals>.wrapper\u001b[0;34m(*args, **kwargs)\u001b[0m\n\u001b[1;32m    380\u001b[0m         \u001b[38;5;28;01melse\u001b[39;00m:\n\u001b[1;32m    381\u001b[0m             \u001b[38;5;28;01mraise\u001b[39;00m \u001b[38;5;167;01mRuntimeError\u001b[39;00m(\n\u001b[1;32m    382\u001b[0m                 \u001b[38;5;124mf\u001b[39m\u001b[38;5;124m\"\u001b[39m\u001b[38;5;132;01m{\u001b[39;00mfunc\u001b[38;5;132;01m}\u001b[39;00m\u001b[38;5;124m must return None or a tuple of (new_args, new_kwargs), but got \u001b[39m\u001b[38;5;132;01m{\u001b[39;00mresult\u001b[38;5;132;01m}\u001b[39;00m\u001b[38;5;124m.\u001b[39m\u001b[38;5;124m\"\u001b[39m\n\u001b[1;32m    383\u001b[0m             )\n\u001b[0;32m--> 385\u001b[0m out \u001b[38;5;241m=\u001b[39m func(\u001b[38;5;241m*\u001b[39margs, \u001b[38;5;241m*\u001b[39m\u001b[38;5;241m*\u001b[39mkwargs)\n\u001b[1;32m    386\u001b[0m \u001b[38;5;28mself\u001b[39m\u001b[38;5;241m.\u001b[39m_optimizer_step_code()\n\u001b[1;32m    388\u001b[0m \u001b[38;5;66;03m# call optimizer step post hooks\u001b[39;00m\n",
      "File \u001b[0;32m~/anaconda3/lib/python3.11/site-packages/torch/optim/optimizer.py:76\u001b[0m, in \u001b[0;36m_use_grad_for_differentiable.<locals>._use_grad\u001b[0;34m(self, *args, **kwargs)\u001b[0m\n\u001b[1;32m     74\u001b[0m     torch\u001b[38;5;241m.\u001b[39mset_grad_enabled(\u001b[38;5;28mself\u001b[39m\u001b[38;5;241m.\u001b[39mdefaults[\u001b[38;5;124m'\u001b[39m\u001b[38;5;124mdifferentiable\u001b[39m\u001b[38;5;124m'\u001b[39m])\n\u001b[1;32m     75\u001b[0m     torch\u001b[38;5;241m.\u001b[39m_dynamo\u001b[38;5;241m.\u001b[39mgraph_break()\n\u001b[0;32m---> 76\u001b[0m     ret \u001b[38;5;241m=\u001b[39m func(\u001b[38;5;28mself\u001b[39m, \u001b[38;5;241m*\u001b[39margs, \u001b[38;5;241m*\u001b[39m\u001b[38;5;241m*\u001b[39mkwargs)\n\u001b[1;32m     77\u001b[0m \u001b[38;5;28;01mfinally\u001b[39;00m:\n\u001b[1;32m     78\u001b[0m     torch\u001b[38;5;241m.\u001b[39m_dynamo\u001b[38;5;241m.\u001b[39mgraph_break()\n",
      "File \u001b[0;32m~/anaconda3/lib/python3.11/site-packages/torch/optim/adam.py:166\u001b[0m, in \u001b[0;36mAdam.step\u001b[0;34m(self, closure)\u001b[0m\n\u001b[1;32m    155\u001b[0m     beta1, beta2 \u001b[38;5;241m=\u001b[39m group[\u001b[38;5;124m'\u001b[39m\u001b[38;5;124mbetas\u001b[39m\u001b[38;5;124m'\u001b[39m]\n\u001b[1;32m    157\u001b[0m     has_complex \u001b[38;5;241m=\u001b[39m \u001b[38;5;28mself\u001b[39m\u001b[38;5;241m.\u001b[39m_init_group(\n\u001b[1;32m    158\u001b[0m         group,\n\u001b[1;32m    159\u001b[0m         params_with_grad,\n\u001b[0;32m   (...)\u001b[0m\n\u001b[1;32m    163\u001b[0m         max_exp_avg_sqs,\n\u001b[1;32m    164\u001b[0m         state_steps)\n\u001b[0;32m--> 166\u001b[0m     adam(\n\u001b[1;32m    167\u001b[0m         params_with_grad,\n\u001b[1;32m    168\u001b[0m         grads,\n\u001b[1;32m    169\u001b[0m         exp_avgs,\n\u001b[1;32m    170\u001b[0m         exp_avg_sqs,\n\u001b[1;32m    171\u001b[0m         max_exp_avg_sqs,\n\u001b[1;32m    172\u001b[0m         state_steps,\n\u001b[1;32m    173\u001b[0m         amsgrad\u001b[38;5;241m=\u001b[39mgroup[\u001b[38;5;124m'\u001b[39m\u001b[38;5;124mamsgrad\u001b[39m\u001b[38;5;124m'\u001b[39m],\n\u001b[1;32m    174\u001b[0m         has_complex\u001b[38;5;241m=\u001b[39mhas_complex,\n\u001b[1;32m    175\u001b[0m         beta1\u001b[38;5;241m=\u001b[39mbeta1,\n\u001b[1;32m    176\u001b[0m         beta2\u001b[38;5;241m=\u001b[39mbeta2,\n\u001b[1;32m    177\u001b[0m         lr\u001b[38;5;241m=\u001b[39mgroup[\u001b[38;5;124m'\u001b[39m\u001b[38;5;124mlr\u001b[39m\u001b[38;5;124m'\u001b[39m],\n\u001b[1;32m    178\u001b[0m         weight_decay\u001b[38;5;241m=\u001b[39mgroup[\u001b[38;5;124m'\u001b[39m\u001b[38;5;124mweight_decay\u001b[39m\u001b[38;5;124m'\u001b[39m],\n\u001b[1;32m    179\u001b[0m         eps\u001b[38;5;241m=\u001b[39mgroup[\u001b[38;5;124m'\u001b[39m\u001b[38;5;124meps\u001b[39m\u001b[38;5;124m'\u001b[39m],\n\u001b[1;32m    180\u001b[0m         maximize\u001b[38;5;241m=\u001b[39mgroup[\u001b[38;5;124m'\u001b[39m\u001b[38;5;124mmaximize\u001b[39m\u001b[38;5;124m'\u001b[39m],\n\u001b[1;32m    181\u001b[0m         foreach\u001b[38;5;241m=\u001b[39mgroup[\u001b[38;5;124m'\u001b[39m\u001b[38;5;124mforeach\u001b[39m\u001b[38;5;124m'\u001b[39m],\n\u001b[1;32m    182\u001b[0m         capturable\u001b[38;5;241m=\u001b[39mgroup[\u001b[38;5;124m'\u001b[39m\u001b[38;5;124mcapturable\u001b[39m\u001b[38;5;124m'\u001b[39m],\n\u001b[1;32m    183\u001b[0m         differentiable\u001b[38;5;241m=\u001b[39mgroup[\u001b[38;5;124m'\u001b[39m\u001b[38;5;124mdifferentiable\u001b[39m\u001b[38;5;124m'\u001b[39m],\n\u001b[1;32m    184\u001b[0m         fused\u001b[38;5;241m=\u001b[39mgroup[\u001b[38;5;124m'\u001b[39m\u001b[38;5;124mfused\u001b[39m\u001b[38;5;124m'\u001b[39m],\n\u001b[1;32m    185\u001b[0m         grad_scale\u001b[38;5;241m=\u001b[39m\u001b[38;5;28mgetattr\u001b[39m(\u001b[38;5;28mself\u001b[39m, \u001b[38;5;124m\"\u001b[39m\u001b[38;5;124mgrad_scale\u001b[39m\u001b[38;5;124m\"\u001b[39m, \u001b[38;5;28;01mNone\u001b[39;00m),\n\u001b[1;32m    186\u001b[0m         found_inf\u001b[38;5;241m=\u001b[39m\u001b[38;5;28mgetattr\u001b[39m(\u001b[38;5;28mself\u001b[39m, \u001b[38;5;124m\"\u001b[39m\u001b[38;5;124mfound_inf\u001b[39m\u001b[38;5;124m\"\u001b[39m, \u001b[38;5;28;01mNone\u001b[39;00m),\n\u001b[1;32m    187\u001b[0m     )\n\u001b[1;32m    189\u001b[0m \u001b[38;5;28;01mreturn\u001b[39;00m loss\n",
      "File \u001b[0;32m~/anaconda3/lib/python3.11/site-packages/torch/optim/adam.py:316\u001b[0m, in \u001b[0;36madam\u001b[0;34m(params, grads, exp_avgs, exp_avg_sqs, max_exp_avg_sqs, state_steps, foreach, capturable, differentiable, fused, grad_scale, found_inf, has_complex, amsgrad, beta1, beta2, lr, weight_decay, eps, maximize)\u001b[0m\n\u001b[1;32m    313\u001b[0m \u001b[38;5;28;01melse\u001b[39;00m:\n\u001b[1;32m    314\u001b[0m     func \u001b[38;5;241m=\u001b[39m _single_tensor_adam\n\u001b[0;32m--> 316\u001b[0m func(params,\n\u001b[1;32m    317\u001b[0m      grads,\n\u001b[1;32m    318\u001b[0m      exp_avgs,\n\u001b[1;32m    319\u001b[0m      exp_avg_sqs,\n\u001b[1;32m    320\u001b[0m      max_exp_avg_sqs,\n\u001b[1;32m    321\u001b[0m      state_steps,\n\u001b[1;32m    322\u001b[0m      amsgrad\u001b[38;5;241m=\u001b[39mamsgrad,\n\u001b[1;32m    323\u001b[0m      has_complex\u001b[38;5;241m=\u001b[39mhas_complex,\n\u001b[1;32m    324\u001b[0m      beta1\u001b[38;5;241m=\u001b[39mbeta1,\n\u001b[1;32m    325\u001b[0m      beta2\u001b[38;5;241m=\u001b[39mbeta2,\n\u001b[1;32m    326\u001b[0m      lr\u001b[38;5;241m=\u001b[39mlr,\n\u001b[1;32m    327\u001b[0m      weight_decay\u001b[38;5;241m=\u001b[39mweight_decay,\n\u001b[1;32m    328\u001b[0m      eps\u001b[38;5;241m=\u001b[39meps,\n\u001b[1;32m    329\u001b[0m      maximize\u001b[38;5;241m=\u001b[39mmaximize,\n\u001b[1;32m    330\u001b[0m      capturable\u001b[38;5;241m=\u001b[39mcapturable,\n\u001b[1;32m    331\u001b[0m      differentiable\u001b[38;5;241m=\u001b[39mdifferentiable,\n\u001b[1;32m    332\u001b[0m      grad_scale\u001b[38;5;241m=\u001b[39mgrad_scale,\n\u001b[1;32m    333\u001b[0m      found_inf\u001b[38;5;241m=\u001b[39mfound_inf)\n",
      "File \u001b[0;32m~/anaconda3/lib/python3.11/site-packages/torch/optim/adam.py:439\u001b[0m, in \u001b[0;36m_single_tensor_adam\u001b[0;34m(params, grads, exp_avgs, exp_avg_sqs, max_exp_avg_sqs, state_steps, grad_scale, found_inf, amsgrad, has_complex, beta1, beta2, lr, weight_decay, eps, maximize, capturable, differentiable)\u001b[0m\n\u001b[1;32m    437\u001b[0m         denom \u001b[38;5;241m=\u001b[39m (max_exp_avg_sqs[i]\u001b[38;5;241m.\u001b[39msqrt() \u001b[38;5;241m/\u001b[39m bias_correction2_sqrt)\u001b[38;5;241m.\u001b[39madd_(eps)\n\u001b[1;32m    438\u001b[0m     \u001b[38;5;28;01melse\u001b[39;00m:\n\u001b[0;32m--> 439\u001b[0m         denom \u001b[38;5;241m=\u001b[39m (exp_avg_sq\u001b[38;5;241m.\u001b[39msqrt() \u001b[38;5;241m/\u001b[39m bias_correction2_sqrt)\u001b[38;5;241m.\u001b[39madd_(eps)\n\u001b[1;32m    441\u001b[0m     param\u001b[38;5;241m.\u001b[39maddcdiv_(exp_avg, denom, value\u001b[38;5;241m=\u001b[39m\u001b[38;5;241m-\u001b[39mstep_size)\n\u001b[1;32m    443\u001b[0m \u001b[38;5;66;03m# Lastly, switch back to complex view\u001b[39;00m\n",
      "\u001b[0;31mKeyboardInterrupt\u001b[0m: "
     ]
    }
   ],
   "source": [
    "# Configure the hyperparameters\n",
    "vocab_size = len(train_vocab)  # Asume que train_vocab es tu vocabulario\n",
    "embedding_dim = 100  # Dimensiones del embedding\n",
    "hidden_dim = 300  # Dimensiones de la capa oculta\n",
    "model4 = SimpleEmbeddingNet(vocab_size, embedding_dim, hidden_dim)\n",
    "\n",
    "model4.to(device)  # Mueve el modelo al dispositivo adecuado\n",
    "\n",
    "# DEfine loss fn and optimizer\n",
    "loss_fn = nn.CrossEntropyLoss()\n",
    "optimizer = optim.Adam(model4.parameters(), lr=0.001)\n",
    "\n",
    "# Start training\n",
    "losses_train = train(n_epochs, optimizer, model4, loss_fn, train_loader, device)\n",
    "\n",
    "# Evaluate the model over the validation set\n",
    "print(\"Evaluando modelo\")\n",
    "model4_accuracy = compute_accuracy(model4, val_loader, device)\n",
    "print(f\"Precisión del modelo: {model4_accuracy}\")"
   ]
  },
  {
   "cell_type": "code",
   "execution_count": 27,
   "id": "8fed9995-6dd5-4ade-aadd-2e8bad0fd2b6",
   "metadata": {},
   "outputs": [
    {
     "name": "stdout",
     "output_type": "stream",
     "text": [
      "El mejor modelo es model2 con una precisión de 0.7419784746481433\n"
     ]
    }
   ],
   "source": [
    "# List of all models and their accuracies\n",
    "model_accuracies = [model1_accuracy1, model2_accuracy, model3_accuracy, model4_accuracy]\n",
    "                    \n",
    "# Find the highest accuracy\n",
    "max_accuracy = max(model_accuracies)\n",
    "\n",
    "# Find the index of the model with the best accuracy\n",
    "best_model_index = model_accuracies.index(max_accuracy)\n",
    "\n",
    "# Assign to best model the name of the best model, we suppose all models are numbered: model1...model8\n",
    "best_model = f'model{best_model_index + 1}'\n",
    "\n",
    "print(f'The best model is {best_model} with an accuracy over the validation set of {max_accuracy}')"
   ]
  },
  {
   "cell_type": "code",
   "execution_count": 64,
   "id": "2831f0db-9037-47ae-9749-afe95d417452",
   "metadata": {},
   "outputs": [
    {
     "name": "stdout",
     "output_type": "stream",
     "text": [
      "Most similar words to 'house': ['world', 'room', 'experience', 'country', 'wants', 'weeks', 'hall', 'within', 'pity', 'falling']\n",
      "Most similar words to 'white': ['regular', 'some', ')', 'hideous', 'killed', 'heavy', 'into', 'two', 'handsome', 'its']\n",
      "Most similar words to 'man': ['woman', 'sit', 'whether', 'child', 'sign', 'details', 'husband', 'struggle', 'soldier', 'who']\n",
      "Most similar words to 'have': ['has', 'hast', 'whether', 'having', 'had', 'presented', 'keep', 've', 'carried', 'coming']\n",
      "Most similar words to 'be': ['is', 'existed', 'are', 'been', 'were', 'apart', 'escape', 'was', '!', 'quite']\n",
      "Most similar words to 'child': ['man', 'woman', 'places', 'soldier', 'husband', 'wants', 'artillery', 'rope', 'officer', 'boy']\n",
      "Most similar words to 'yes': ['well', 'stop', 'listen', 'replies', 'angrily', 'however', 'understand', 'besides', 'pointing', 'born']\n",
      "Most similar words to 'are': ['was', 'were', 'is', 'been', 'becomes', 'gives', 'be', 'has', 's', 'promised']\n",
      "Most similar words to 'is': ['was', 'were', 'are', 'make', 'and', 'be', 'probably', 'fit', 'has', 'many']\n",
      "Most similar words to 'dog': ['note', 'persons', 'kings', 'figure', 'happiness', 'event', 'cook', 'lawn', 'generals', 'bondes']\n",
      "Most similar words to 'was': ['were', 'is', 'are', 'am', 'became', 'can', 'gives', 'isn', 'fit', 'has']\n",
      "Most similar words to 'happy': ['watched', 'abandoned', 'running', 'relations', 'pleasure', 'doing', 'hanging', 'rising', 'sitting', 'eaten']\n",
      "Most similar words to 'table': ['bed', 'lips', 'kingdom', 'tomb', 'cloak', 'killed', 'frame', 'ago', 'soon', 'thing']\n",
      "Most similar words to 'sea': ['lips', 'bed', 'pity', 'ear', 'answer', 'learn', 'ships', 'throw', 'bird', 'forest']\n",
      "Most similar words to 'water': ['building', 'birds', 'sometimes', 'post', 'terror', 'farther', 'sea', 'seeds', 'bread', 'kitchen']\n",
      "Most similar words to 'black': ['heavy', 'has', 'the', 'any', 'chance', 'free', 'this', 'half', 'simple', 'evidently']\n",
      "Most similar words to 'said': ['says', 'answered', 'replied', 'cried', 'continued', 'added', 'murmured', 'resumed', 'remarked', 'usual']\n"
     ]
    }
   ],
   "source": [
    "#we manually select the best model\n",
    "best_model = model2\n",
    "\n",
    "def get_embeddings(vocab, embedding_layer):\n",
    "    # Retrieve the embeddings for the entire vocabulary\n",
    "    embeddings = embedding_layer.weight.data\n",
    "    # Normalize the embeddings\n",
    "    norm_embeddings = embeddings / embeddings.norm(dim=1, keepdim=True)\n",
    "    return norm_embeddings\n",
    "\n",
    "def cosine_similarity(embeddings):\n",
    "    # Compute the cosine similarity matrix\n",
    "    similarity_matrix = torch.mm(embeddings, embeddings.t())\n",
    "    return similarity_matrix\n",
    "\n",
    "def most_similar(similarity_matrix, vocab, word, n=10):\n",
    "    # Get the index of the word\n",
    "    idx = vocab[word]\n",
    "    # Get the similarities\n",
    "    similarities = similarity_matrix[idx]\n",
    "    # Exclude the word itself and get the top n similar words\n",
    "    top_indices = similarities.argsort(descending=True)[1:n+1]\n",
    "    similar_words = [vocab.get_itos()[i] for i in top_indices]\n",
    "    return similar_words\n",
    "\n",
    "# Assuming the embedding layer and vocabulary are already defined\n",
    "embeddings = get_embeddings(train_vocab, best_model.embedding)\n",
    "similarity_matrix = cosine_similarity(embeddings)\n",
    "\n",
    "# Define words for which you want to find the most similar words\n",
    "words_to_check = ['house', 'white', 'man', 'have', 'be', 'child', 'yes', 'are', 'is', 'dog', 'was', 'happy', 'table', 'sea', 'water', \n",
    "                  'black', 'said']\n",
    "\n",
    "# Finding the most similar words for the chosen words\n",
    "similar_words_dict = {}\n",
    "for word in words_to_check:\n",
    "    similar_words_dict[word] = most_similar(similarity_matrix, train_vocab, word, n=10)\n",
    "\n",
    "# Print similar words for each chosen word\n",
    "for word, similar_words in similar_words_dict.items():\n",
    "    print(f\"Most similar words to '{word}': {similar_words}\")\n"
   ]
  },
  {
   "cell_type": "code",
   "execution_count": 59,
   "id": "ae0adc81-1b91-4e87-88ba-71c05eaa0d26",
   "metadata": {},
   "outputs": [
    {
     "name": "stdout",
     "output_type": "stream",
     "text": [
      "Files saved: ./embeddings.tsv and ./metadata.tsv\n"
     ]
    }
   ],
   "source": [
    "def save_embeddings_tsv(embeddings, vocab, path='./'):\n",
    "    \"\"\"\n",
    "    Saves embeddings and vocabulary in the format required by TensorFlow Projector.\n",
    "\n",
    "    Args:\n",
    "    - embeddings: Tensor, the embeddings from the model.\n",
    "    - vocab: Vocabulary object from torchtext.\n",
    "    - path: str, directory where to save the files.\n",
    "    \"\"\"\n",
    "\n",
    "    # Ensure the path exists\n",
    "    if not os.path.exists(path):\n",
    "        os.makedirs(path)\n",
    "\n",
    "    # File paths\n",
    "    embeddings_file = os.path.join(path, 'embeddings.tsv')\n",
    "    metadata_file = os.path.join(path, 'metadata.tsv')\n",
    "\n",
    "    # Open files\n",
    "    with open(embeddings_file, 'w') as ef, open(metadata_file, 'w') as mf:\n",
    "        for idx, word in enumerate(vocab.get_itos()):\n",
    "            # Embedding vector\n",
    "            vector = embeddings[idx].numpy()\n",
    "            vector_str = '\\t'.join([str(x) for x in vector])\n",
    "            ef.write(f\"{vector_str}\\n\")\n",
    "            # Corresponding word\n",
    "            mf.write(f\"{word}\\n\")\n",
    "\n",
    "    print(f\"Files saved: {embeddings_file} and {metadata_file}\")\n",
    "\n",
    "embeddings = modelll.embedding.weight.data\n",
    "save_embeddings_tsv(embeddings, train_vocab, path='./')\n"
   ]
  },
  {
   "cell_type": "markdown",
   "id": "dcb86d30-94c1-4c9a-acc7-698e9020b0ed",
   "metadata": {},
   "source": [
    "### Part 2.2: Conjugating be and have"
   ]
  },
  {
   "cell_type": "code",
   "execution_count": 116,
   "id": "48fac41f-08a4-432f-a623-d65d5d1cf8db",
   "metadata": {},
   "outputs": [],
   "source": [
    "# Define the MLP model with appropriate output dimension for 12 classes\n",
    "class MLPModel(nn.Module):\n",
    "    def __init__(self, vocab_size, embedding_dim, hidden_dim):\n",
    "        super(MLPModel, self).__init__()\n",
    "        self.embedding = nn.Embedding(vocab_size, embedding_dim)\n",
    "        self.fc1 = nn.Linear(embedding_dim * CONTEXT_SIZE, hidden_dim)\n",
    "        self.fc2 = nn.Linear(hidden_dim, 12)  # Output dimension is 12 for 12 forms of 'be' and 'have'\n",
    "\n",
    "    def forward(self, x):\n",
    "        x = self.embedding(x).view(x.size(0), -1)\n",
    "        x = F.relu(self.fc1(x))\n",
    "        x = self.fc2(x)\n",
    "        return x\n",
    "\n",
    "# Function to train the model\n",
    "def train_model(model, train_loader, val_loader, device, n_epochs=10):\n",
    "    optimizer = optim.Adam(model.parameters())\n",
    "    loss_fn = nn.CrossEntropyLoss()\n",
    "\n",
    "    for epoch in range(1, n_epochs + 1):\n",
    "        model.train()\n",
    "        total_loss = 0\n",
    "        for contexts, targets in train_loader:\n",
    "            contexts, targets = contexts.to(device), targets.to(device)\n",
    "            optimizer.zero_grad()\n",
    "            outputs = model(contexts)\n",
    "            loss = loss_fn(outputs, targets)\n",
    "            loss.backward()\n",
    "            optimizer.step()\n",
    "            total_loss += loss.item()\n",
    "        print(f'Epoch {epoch}, Training Loss: {total_loss / len(train_loader)}')\n",
    "        validate_model(model, val_loader, device)\n",
    "\n",
    "# Function to validate the model\n",
    "def validate_model(model, loader, device):\n",
    "    model.eval()\n",
    "    total = correct = 0\n",
    "    with torch.no_grad():\n",
    "        for contexts, targets in loader:\n",
    "            contexts, targets = contexts.to(device), targets.to(device)\n",
    "            outputs = model(contexts)\n",
    "            _, predicted = torch.max(outputs.data, 1)\n",
    "            total += targets.size(0)\n",
    "            correct += (predicted == targets).sum().item()\n",
    "    print(f'Validation Accuracy: {100 * correct / total}%')"
   ]
  },
  {
   "cell_type": "code",
   "execution_count": 118,
   "id": "e0ecc76b-4a36-40c8-b8c0-c686f23cbda0",
   "metadata": {},
   "outputs": [
    {
     "name": "stdout",
     "output_type": "stream",
     "text": [
      "Epoch 1, Training Loss: 0.6492494540821654\n",
      "Validation Accuracy: 74.10899985865153%\n"
     ]
    },
    {
     "ename": "KeyboardInterrupt",
     "evalue": "",
     "output_type": "error",
     "traceback": [
      "\u001b[0;31m---------------------------------------------------------------------------\u001b[0m",
      "\u001b[0;31mKeyboardInterrupt\u001b[0m                         Traceback (most recent call last)",
      "Cell \u001b[0;32mIn[118], line 9\u001b[0m\n\u001b[1;32m      6\u001b[0m val_loader \u001b[38;5;241m=\u001b[39m DataLoader(data_val, batch_size\u001b[38;5;241m=\u001b[39m\u001b[38;5;241m64\u001b[39m, shuffle\u001b[38;5;241m=\u001b[39m\u001b[38;5;28;01mFalse\u001b[39;00m)\n\u001b[1;32m      8\u001b[0m \u001b[38;5;66;03m# Training the model\u001b[39;00m\n\u001b[0;32m----> 9\u001b[0m train_model(model1, data_loader, val_loader, device, n_epochs\u001b[38;5;241m=\u001b[39m\u001b[38;5;241m20\u001b[39m)\n",
      "Cell \u001b[0;32mIn[116], line 28\u001b[0m, in \u001b[0;36mtrain_model\u001b[0;34m(model, train_loader, val_loader, device, n_epochs)\u001b[0m\n\u001b[1;32m     26\u001b[0m outputs \u001b[38;5;241m=\u001b[39m model(contexts)\n\u001b[1;32m     27\u001b[0m loss \u001b[38;5;241m=\u001b[39m loss_fn(outputs, targets)\n\u001b[0;32m---> 28\u001b[0m loss\u001b[38;5;241m.\u001b[39mbackward()\n\u001b[1;32m     29\u001b[0m optimizer\u001b[38;5;241m.\u001b[39mstep()\n\u001b[1;32m     30\u001b[0m total_loss \u001b[38;5;241m+\u001b[39m\u001b[38;5;241m=\u001b[39m loss\u001b[38;5;241m.\u001b[39mitem()\n",
      "File \u001b[0;32m~/anaconda3/lib/python3.11/site-packages/torch/_tensor.py:522\u001b[0m, in \u001b[0;36mTensor.backward\u001b[0;34m(self, gradient, retain_graph, create_graph, inputs)\u001b[0m\n\u001b[1;32m    512\u001b[0m \u001b[38;5;28;01mif\u001b[39;00m has_torch_function_unary(\u001b[38;5;28mself\u001b[39m):\n\u001b[1;32m    513\u001b[0m     \u001b[38;5;28;01mreturn\u001b[39;00m handle_torch_function(\n\u001b[1;32m    514\u001b[0m         Tensor\u001b[38;5;241m.\u001b[39mbackward,\n\u001b[1;32m    515\u001b[0m         (\u001b[38;5;28mself\u001b[39m,),\n\u001b[0;32m   (...)\u001b[0m\n\u001b[1;32m    520\u001b[0m         inputs\u001b[38;5;241m=\u001b[39minputs,\n\u001b[1;32m    521\u001b[0m     )\n\u001b[0;32m--> 522\u001b[0m torch\u001b[38;5;241m.\u001b[39mautograd\u001b[38;5;241m.\u001b[39mbackward(\n\u001b[1;32m    523\u001b[0m     \u001b[38;5;28mself\u001b[39m, gradient, retain_graph, create_graph, inputs\u001b[38;5;241m=\u001b[39minputs\n\u001b[1;32m    524\u001b[0m )\n",
      "File \u001b[0;32m~/anaconda3/lib/python3.11/site-packages/torch/autograd/__init__.py:266\u001b[0m, in \u001b[0;36mbackward\u001b[0;34m(tensors, grad_tensors, retain_graph, create_graph, grad_variables, inputs)\u001b[0m\n\u001b[1;32m    261\u001b[0m     retain_graph \u001b[38;5;241m=\u001b[39m create_graph\n\u001b[1;32m    263\u001b[0m \u001b[38;5;66;03m# The reason we repeat the same comment below is that\u001b[39;00m\n\u001b[1;32m    264\u001b[0m \u001b[38;5;66;03m# some Python versions print out the first line of a multi-line function\u001b[39;00m\n\u001b[1;32m    265\u001b[0m \u001b[38;5;66;03m# calls in the traceback and some print out the last line\u001b[39;00m\n\u001b[0;32m--> 266\u001b[0m Variable\u001b[38;5;241m.\u001b[39m_execution_engine\u001b[38;5;241m.\u001b[39mrun_backward(  \u001b[38;5;66;03m# Calls into the C++ engine to run the backward pass\u001b[39;00m\n\u001b[1;32m    267\u001b[0m     tensors,\n\u001b[1;32m    268\u001b[0m     grad_tensors_,\n\u001b[1;32m    269\u001b[0m     retain_graph,\n\u001b[1;32m    270\u001b[0m     create_graph,\n\u001b[1;32m    271\u001b[0m     inputs,\n\u001b[1;32m    272\u001b[0m     allow_unreachable\u001b[38;5;241m=\u001b[39m\u001b[38;5;28;01mTrue\u001b[39;00m,\n\u001b[1;32m    273\u001b[0m     accumulate_grad\u001b[38;5;241m=\u001b[39m\u001b[38;5;28;01mTrue\u001b[39;00m,\n\u001b[1;32m    274\u001b[0m )\n",
      "\u001b[0;31mKeyboardInterrupt\u001b[0m: "
     ]
    }
   ],
   "source": [
    "# Preparing the device\n",
    "device = torch.device(\"cuda\" if torch.cuda.is_available() else \"cpu\")\n",
    "model1 = MLPModel(len(train_vocab), 100, 300)  # Ensure the vocab size is correct\n",
    "model1.to(device)\n",
    "data_loader = DataLoader(data_train, batch_size=64, shuffle=True)\n",
    "val_loader = DataLoader(data_val, batch_size=64, shuffle=False)\n",
    "\n",
    "# Training the model\n",
    "train_model(model1, data_loader, val_loader, device, n_epochs=20)"
   ]
  },
  {
   "cell_type": "code",
   "execution_count": 120,
   "id": "73a70cfe-0f08-475f-8b28-63e970a2e6c5",
   "metadata": {},
   "outputs": [],
   "source": [
    "class RNNModel(nn.Module):\n",
    "    def __init__(self, vocab_size, embedding_dim, hidden_dim, output_dim=12):\n",
    "        super(RNNModel, self).__init__()\n",
    "        self.embedding = nn.Embedding(vocab_size, embedding_dim)\n",
    "        self.rnn = nn.RNN(embedding_dim, hidden_dim, batch_first=True)\n",
    "        self.fc = nn.Linear(hidden_dim, output_dim)\n",
    "\n",
    "    def forward(self, x):\n",
    "        x = self.embedding(x)\n",
    "        x, _ = self.rnn(x)\n",
    "        x = self.fc(x[:, -1, :])  # Use the last output only\n",
    "        return x"
   ]
  },
  {
   "cell_type": "code",
   "execution_count": 121,
   "id": "d220b84b-7f9e-4e0a-88c2-e317d7692d2e",
   "metadata": {},
   "outputs": [
    {
     "name": "stdout",
     "output_type": "stream",
     "text": [
      "Epoch 1, Training Loss: 0.6480890605321172\n",
      "Validation Accuracy: 74.0464026815823%\n"
     ]
    },
    {
     "ename": "KeyboardInterrupt",
     "evalue": "",
     "output_type": "error",
     "traceback": [
      "\u001b[0;31m---------------------------------------------------------------------------\u001b[0m",
      "\u001b[0;31mKeyboardInterrupt\u001b[0m                         Traceback (most recent call last)",
      "Cell \u001b[0;32mIn[121], line 16\u001b[0m\n\u001b[1;32m     13\u001b[0m val_loader \u001b[38;5;241m=\u001b[39m DataLoader(data_val, batch_size\u001b[38;5;241m=\u001b[39m\u001b[38;5;241m64\u001b[39m, shuffle\u001b[38;5;241m=\u001b[39m\u001b[38;5;28;01mFalse\u001b[39;00m)\n\u001b[1;32m     15\u001b[0m \u001b[38;5;66;03m# Training the model\u001b[39;00m\n\u001b[0;32m---> 16\u001b[0m train_model(model2, data_loader, val_loader, device, n_epochs\u001b[38;5;241m=\u001b[39m\u001b[38;5;241m20\u001b[39m)\n",
      "Cell \u001b[0;32mIn[116], line 29\u001b[0m, in \u001b[0;36mtrain_model\u001b[0;34m(model, train_loader, val_loader, device, n_epochs)\u001b[0m\n\u001b[1;32m     27\u001b[0m     loss \u001b[38;5;241m=\u001b[39m loss_fn(outputs, targets)\n\u001b[1;32m     28\u001b[0m     loss\u001b[38;5;241m.\u001b[39mbackward()\n\u001b[0;32m---> 29\u001b[0m     optimizer\u001b[38;5;241m.\u001b[39mstep()\n\u001b[1;32m     30\u001b[0m     total_loss \u001b[38;5;241m+\u001b[39m\u001b[38;5;241m=\u001b[39m loss\u001b[38;5;241m.\u001b[39mitem()\n\u001b[1;32m     31\u001b[0m \u001b[38;5;28mprint\u001b[39m(\u001b[38;5;124mf\u001b[39m\u001b[38;5;124m'\u001b[39m\u001b[38;5;124mEpoch \u001b[39m\u001b[38;5;132;01m{\u001b[39;00mepoch\u001b[38;5;132;01m}\u001b[39;00m\u001b[38;5;124m, Training Loss: \u001b[39m\u001b[38;5;132;01m{\u001b[39;00mtotal_loss\u001b[38;5;250m \u001b[39m\u001b[38;5;241m/\u001b[39m\u001b[38;5;250m \u001b[39m\u001b[38;5;28mlen\u001b[39m(train_loader)\u001b[38;5;132;01m}\u001b[39;00m\u001b[38;5;124m'\u001b[39m)\n",
      "File \u001b[0;32m~/anaconda3/lib/python3.11/site-packages/torch/optim/optimizer.py:385\u001b[0m, in \u001b[0;36mOptimizer.profile_hook_step.<locals>.wrapper\u001b[0;34m(*args, **kwargs)\u001b[0m\n\u001b[1;32m    380\u001b[0m         \u001b[38;5;28;01melse\u001b[39;00m:\n\u001b[1;32m    381\u001b[0m             \u001b[38;5;28;01mraise\u001b[39;00m \u001b[38;5;167;01mRuntimeError\u001b[39;00m(\n\u001b[1;32m    382\u001b[0m                 \u001b[38;5;124mf\u001b[39m\u001b[38;5;124m\"\u001b[39m\u001b[38;5;132;01m{\u001b[39;00mfunc\u001b[38;5;132;01m}\u001b[39;00m\u001b[38;5;124m must return None or a tuple of (new_args, new_kwargs), but got \u001b[39m\u001b[38;5;132;01m{\u001b[39;00mresult\u001b[38;5;132;01m}\u001b[39;00m\u001b[38;5;124m.\u001b[39m\u001b[38;5;124m\"\u001b[39m\n\u001b[1;32m    383\u001b[0m             )\n\u001b[0;32m--> 385\u001b[0m out \u001b[38;5;241m=\u001b[39m func(\u001b[38;5;241m*\u001b[39margs, \u001b[38;5;241m*\u001b[39m\u001b[38;5;241m*\u001b[39mkwargs)\n\u001b[1;32m    386\u001b[0m \u001b[38;5;28mself\u001b[39m\u001b[38;5;241m.\u001b[39m_optimizer_step_code()\n\u001b[1;32m    388\u001b[0m \u001b[38;5;66;03m# call optimizer step post hooks\u001b[39;00m\n",
      "File \u001b[0;32m~/anaconda3/lib/python3.11/site-packages/torch/optim/optimizer.py:76\u001b[0m, in \u001b[0;36m_use_grad_for_differentiable.<locals>._use_grad\u001b[0;34m(self, *args, **kwargs)\u001b[0m\n\u001b[1;32m     74\u001b[0m     torch\u001b[38;5;241m.\u001b[39mset_grad_enabled(\u001b[38;5;28mself\u001b[39m\u001b[38;5;241m.\u001b[39mdefaults[\u001b[38;5;124m'\u001b[39m\u001b[38;5;124mdifferentiable\u001b[39m\u001b[38;5;124m'\u001b[39m])\n\u001b[1;32m     75\u001b[0m     torch\u001b[38;5;241m.\u001b[39m_dynamo\u001b[38;5;241m.\u001b[39mgraph_break()\n\u001b[0;32m---> 76\u001b[0m     ret \u001b[38;5;241m=\u001b[39m func(\u001b[38;5;28mself\u001b[39m, \u001b[38;5;241m*\u001b[39margs, \u001b[38;5;241m*\u001b[39m\u001b[38;5;241m*\u001b[39mkwargs)\n\u001b[1;32m     77\u001b[0m \u001b[38;5;28;01mfinally\u001b[39;00m:\n\u001b[1;32m     78\u001b[0m     torch\u001b[38;5;241m.\u001b[39m_dynamo\u001b[38;5;241m.\u001b[39mgraph_break()\n",
      "File \u001b[0;32m~/anaconda3/lib/python3.11/site-packages/torch/optim/adam.py:166\u001b[0m, in \u001b[0;36mAdam.step\u001b[0;34m(self, closure)\u001b[0m\n\u001b[1;32m    155\u001b[0m     beta1, beta2 \u001b[38;5;241m=\u001b[39m group[\u001b[38;5;124m'\u001b[39m\u001b[38;5;124mbetas\u001b[39m\u001b[38;5;124m'\u001b[39m]\n\u001b[1;32m    157\u001b[0m     has_complex \u001b[38;5;241m=\u001b[39m \u001b[38;5;28mself\u001b[39m\u001b[38;5;241m.\u001b[39m_init_group(\n\u001b[1;32m    158\u001b[0m         group,\n\u001b[1;32m    159\u001b[0m         params_with_grad,\n\u001b[0;32m   (...)\u001b[0m\n\u001b[1;32m    163\u001b[0m         max_exp_avg_sqs,\n\u001b[1;32m    164\u001b[0m         state_steps)\n\u001b[0;32m--> 166\u001b[0m     adam(\n\u001b[1;32m    167\u001b[0m         params_with_grad,\n\u001b[1;32m    168\u001b[0m         grads,\n\u001b[1;32m    169\u001b[0m         exp_avgs,\n\u001b[1;32m    170\u001b[0m         exp_avg_sqs,\n\u001b[1;32m    171\u001b[0m         max_exp_avg_sqs,\n\u001b[1;32m    172\u001b[0m         state_steps,\n\u001b[1;32m    173\u001b[0m         amsgrad\u001b[38;5;241m=\u001b[39mgroup[\u001b[38;5;124m'\u001b[39m\u001b[38;5;124mamsgrad\u001b[39m\u001b[38;5;124m'\u001b[39m],\n\u001b[1;32m    174\u001b[0m         has_complex\u001b[38;5;241m=\u001b[39mhas_complex,\n\u001b[1;32m    175\u001b[0m         beta1\u001b[38;5;241m=\u001b[39mbeta1,\n\u001b[1;32m    176\u001b[0m         beta2\u001b[38;5;241m=\u001b[39mbeta2,\n\u001b[1;32m    177\u001b[0m         lr\u001b[38;5;241m=\u001b[39mgroup[\u001b[38;5;124m'\u001b[39m\u001b[38;5;124mlr\u001b[39m\u001b[38;5;124m'\u001b[39m],\n\u001b[1;32m    178\u001b[0m         weight_decay\u001b[38;5;241m=\u001b[39mgroup[\u001b[38;5;124m'\u001b[39m\u001b[38;5;124mweight_decay\u001b[39m\u001b[38;5;124m'\u001b[39m],\n\u001b[1;32m    179\u001b[0m         eps\u001b[38;5;241m=\u001b[39mgroup[\u001b[38;5;124m'\u001b[39m\u001b[38;5;124meps\u001b[39m\u001b[38;5;124m'\u001b[39m],\n\u001b[1;32m    180\u001b[0m         maximize\u001b[38;5;241m=\u001b[39mgroup[\u001b[38;5;124m'\u001b[39m\u001b[38;5;124mmaximize\u001b[39m\u001b[38;5;124m'\u001b[39m],\n\u001b[1;32m    181\u001b[0m         foreach\u001b[38;5;241m=\u001b[39mgroup[\u001b[38;5;124m'\u001b[39m\u001b[38;5;124mforeach\u001b[39m\u001b[38;5;124m'\u001b[39m],\n\u001b[1;32m    182\u001b[0m         capturable\u001b[38;5;241m=\u001b[39mgroup[\u001b[38;5;124m'\u001b[39m\u001b[38;5;124mcapturable\u001b[39m\u001b[38;5;124m'\u001b[39m],\n\u001b[1;32m    183\u001b[0m         differentiable\u001b[38;5;241m=\u001b[39mgroup[\u001b[38;5;124m'\u001b[39m\u001b[38;5;124mdifferentiable\u001b[39m\u001b[38;5;124m'\u001b[39m],\n\u001b[1;32m    184\u001b[0m         fused\u001b[38;5;241m=\u001b[39mgroup[\u001b[38;5;124m'\u001b[39m\u001b[38;5;124mfused\u001b[39m\u001b[38;5;124m'\u001b[39m],\n\u001b[1;32m    185\u001b[0m         grad_scale\u001b[38;5;241m=\u001b[39m\u001b[38;5;28mgetattr\u001b[39m(\u001b[38;5;28mself\u001b[39m, \u001b[38;5;124m\"\u001b[39m\u001b[38;5;124mgrad_scale\u001b[39m\u001b[38;5;124m\"\u001b[39m, \u001b[38;5;28;01mNone\u001b[39;00m),\n\u001b[1;32m    186\u001b[0m         found_inf\u001b[38;5;241m=\u001b[39m\u001b[38;5;28mgetattr\u001b[39m(\u001b[38;5;28mself\u001b[39m, \u001b[38;5;124m\"\u001b[39m\u001b[38;5;124mfound_inf\u001b[39m\u001b[38;5;124m\"\u001b[39m, \u001b[38;5;28;01mNone\u001b[39;00m),\n\u001b[1;32m    187\u001b[0m     )\n\u001b[1;32m    189\u001b[0m \u001b[38;5;28;01mreturn\u001b[39;00m loss\n",
      "File \u001b[0;32m~/anaconda3/lib/python3.11/site-packages/torch/optim/adam.py:316\u001b[0m, in \u001b[0;36madam\u001b[0;34m(params, grads, exp_avgs, exp_avg_sqs, max_exp_avg_sqs, state_steps, foreach, capturable, differentiable, fused, grad_scale, found_inf, has_complex, amsgrad, beta1, beta2, lr, weight_decay, eps, maximize)\u001b[0m\n\u001b[1;32m    313\u001b[0m \u001b[38;5;28;01melse\u001b[39;00m:\n\u001b[1;32m    314\u001b[0m     func \u001b[38;5;241m=\u001b[39m _single_tensor_adam\n\u001b[0;32m--> 316\u001b[0m func(params,\n\u001b[1;32m    317\u001b[0m      grads,\n\u001b[1;32m    318\u001b[0m      exp_avgs,\n\u001b[1;32m    319\u001b[0m      exp_avg_sqs,\n\u001b[1;32m    320\u001b[0m      max_exp_avg_sqs,\n\u001b[1;32m    321\u001b[0m      state_steps,\n\u001b[1;32m    322\u001b[0m      amsgrad\u001b[38;5;241m=\u001b[39mamsgrad,\n\u001b[1;32m    323\u001b[0m      has_complex\u001b[38;5;241m=\u001b[39mhas_complex,\n\u001b[1;32m    324\u001b[0m      beta1\u001b[38;5;241m=\u001b[39mbeta1,\n\u001b[1;32m    325\u001b[0m      beta2\u001b[38;5;241m=\u001b[39mbeta2,\n\u001b[1;32m    326\u001b[0m      lr\u001b[38;5;241m=\u001b[39mlr,\n\u001b[1;32m    327\u001b[0m      weight_decay\u001b[38;5;241m=\u001b[39mweight_decay,\n\u001b[1;32m    328\u001b[0m      eps\u001b[38;5;241m=\u001b[39meps,\n\u001b[1;32m    329\u001b[0m      maximize\u001b[38;5;241m=\u001b[39mmaximize,\n\u001b[1;32m    330\u001b[0m      capturable\u001b[38;5;241m=\u001b[39mcapturable,\n\u001b[1;32m    331\u001b[0m      differentiable\u001b[38;5;241m=\u001b[39mdifferentiable,\n\u001b[1;32m    332\u001b[0m      grad_scale\u001b[38;5;241m=\u001b[39mgrad_scale,\n\u001b[1;32m    333\u001b[0m      found_inf\u001b[38;5;241m=\u001b[39mfound_inf)\n",
      "File \u001b[0;32m~/anaconda3/lib/python3.11/site-packages/torch/optim/adam.py:392\u001b[0m, in \u001b[0;36m_single_tensor_adam\u001b[0;34m(params, grads, exp_avgs, exp_avg_sqs, max_exp_avg_sqs, state_steps, grad_scale, found_inf, amsgrad, has_complex, beta1, beta2, lr, weight_decay, eps, maximize, capturable, differentiable)\u001b[0m\n\u001b[1;32m    390\u001b[0m \u001b[38;5;66;03m# Decay the first and second moment running average coefficient\u001b[39;00m\n\u001b[1;32m    391\u001b[0m exp_avg\u001b[38;5;241m.\u001b[39mlerp_(grad, \u001b[38;5;241m1\u001b[39m \u001b[38;5;241m-\u001b[39m beta1)\n\u001b[0;32m--> 392\u001b[0m exp_avg_sq\u001b[38;5;241m.\u001b[39mmul_(beta2)\u001b[38;5;241m.\u001b[39maddcmul_(grad, grad\u001b[38;5;241m.\u001b[39mconj(), value\u001b[38;5;241m=\u001b[39m\u001b[38;5;241m1\u001b[39m \u001b[38;5;241m-\u001b[39m beta2)\n\u001b[1;32m    394\u001b[0m \u001b[38;5;28;01mif\u001b[39;00m capturable \u001b[38;5;129;01mor\u001b[39;00m differentiable:\n\u001b[1;32m    395\u001b[0m     step \u001b[38;5;241m=\u001b[39m step_t\n",
      "\u001b[0;31mKeyboardInterrupt\u001b[0m: "
     ]
    }
   ],
   "source": [
    "# Preparing the device\n",
    "device = torch.device(\"cuda\" if torch.cuda.is_available() else \"cpu\")\n",
    "\n",
    "vocab_size = len(train_vocab)  # Ensure the vocab size is correct\n",
    "embedding_dim = 100  # Dimensionality of embedding space\n",
    "hidden_dim = 100  # Dimensionality of RNN hidden states\n",
    "\n",
    "# Create the RNN model instance\n",
    "model2 = RNNModel(vocab_size, embedding_dim, hidden_dim)\n",
    "\n",
    "model2.to(device)\n",
    "data_loader = DataLoader(data_train, batch_size=64, shuffle=True)\n",
    "val_loader = DataLoader(data_val, batch_size=64, shuffle=False)\n",
    "\n",
    "# Training the model\n",
    "train_model(model2, data_loader, val_loader, device, n_epochs=20)\n"
   ]
  },
  {
   "cell_type": "code",
   "execution_count": 124,
   "id": "5fbc3887-8895-4857-bcd0-491f7f825ae1",
   "metadata": {},
   "outputs": [],
   "source": [
    "class MLPAttentionModel(nn.Module):\n",
    "    def __init__(self, vocab_size, embedding_dim, hidden_dim, output_dim=12):\n",
    "        super(MLPAttentionModel, self).__init__()\n",
    "        self.embedding = nn.Embedding(vocab_size, embedding_dim)\n",
    "        self.attention = nn.MultiheadAttention(embedding_dim, num_heads=1, batch_first=True)\n",
    "        self.fc1 = nn.Linear(embedding_dim * CONTEXT_SIZE, hidden_dim)\n",
    "        self.fc2 = nn.Linear(hidden_dim, output_dim)\n",
    "\n",
    "    def forward(self, x):\n",
    "        x = self.embedding(x)\n",
    "        x, _ = self.attention(x, x, x)\n",
    "        x = x.reshape(x.size(0), -1)  # Flatten the output for the fully connected layer\n",
    "        x = F.relu(self.fc1(x))\n",
    "        x = self.fc2(x)\n",
    "        return x"
   ]
  },
  {
   "cell_type": "code",
   "execution_count": 127,
   "id": "99db264c-582d-4407-a056-6e16c60d24f4",
   "metadata": {},
   "outputs": [
    {
     "name": "stdout",
     "output_type": "stream",
     "text": [
      "Epoch 1, Training Loss: 0.657625524457747\n",
      "Validation Accuracy: 74.0766916382287%\n"
     ]
    },
    {
     "ename": "KeyboardInterrupt",
     "evalue": "",
     "output_type": "error",
     "traceback": [
      "\u001b[0;31m---------------------------------------------------------------------------\u001b[0m",
      "\u001b[0;31mKeyboardInterrupt\u001b[0m                         Traceback (most recent call last)",
      "Cell \u001b[0;32mIn[127], line 16\u001b[0m\n\u001b[1;32m     13\u001b[0m val_loader \u001b[38;5;241m=\u001b[39m DataLoader(data_val, batch_size\u001b[38;5;241m=\u001b[39m\u001b[38;5;241m64\u001b[39m, shuffle\u001b[38;5;241m=\u001b[39m\u001b[38;5;28;01mFalse\u001b[39;00m)\n\u001b[1;32m     15\u001b[0m \u001b[38;5;66;03m# Training the model\u001b[39;00m\n\u001b[0;32m---> 16\u001b[0m train_model(model3, data_loader, val_loader, device, n_epochs\u001b[38;5;241m=\u001b[39m\u001b[38;5;241m20\u001b[39m)\n",
      "Cell \u001b[0;32mIn[116], line 29\u001b[0m, in \u001b[0;36mtrain_model\u001b[0;34m(model, train_loader, val_loader, device, n_epochs)\u001b[0m\n\u001b[1;32m     27\u001b[0m     loss \u001b[38;5;241m=\u001b[39m loss_fn(outputs, targets)\n\u001b[1;32m     28\u001b[0m     loss\u001b[38;5;241m.\u001b[39mbackward()\n\u001b[0;32m---> 29\u001b[0m     optimizer\u001b[38;5;241m.\u001b[39mstep()\n\u001b[1;32m     30\u001b[0m     total_loss \u001b[38;5;241m+\u001b[39m\u001b[38;5;241m=\u001b[39m loss\u001b[38;5;241m.\u001b[39mitem()\n\u001b[1;32m     31\u001b[0m \u001b[38;5;28mprint\u001b[39m(\u001b[38;5;124mf\u001b[39m\u001b[38;5;124m'\u001b[39m\u001b[38;5;124mEpoch \u001b[39m\u001b[38;5;132;01m{\u001b[39;00mepoch\u001b[38;5;132;01m}\u001b[39;00m\u001b[38;5;124m, Training Loss: \u001b[39m\u001b[38;5;132;01m{\u001b[39;00mtotal_loss\u001b[38;5;250m \u001b[39m\u001b[38;5;241m/\u001b[39m\u001b[38;5;250m \u001b[39m\u001b[38;5;28mlen\u001b[39m(train_loader)\u001b[38;5;132;01m}\u001b[39;00m\u001b[38;5;124m'\u001b[39m)\n",
      "File \u001b[0;32m~/anaconda3/lib/python3.11/site-packages/torch/optim/optimizer.py:385\u001b[0m, in \u001b[0;36mOptimizer.profile_hook_step.<locals>.wrapper\u001b[0;34m(*args, **kwargs)\u001b[0m\n\u001b[1;32m    380\u001b[0m         \u001b[38;5;28;01melse\u001b[39;00m:\n\u001b[1;32m    381\u001b[0m             \u001b[38;5;28;01mraise\u001b[39;00m \u001b[38;5;167;01mRuntimeError\u001b[39;00m(\n\u001b[1;32m    382\u001b[0m                 \u001b[38;5;124mf\u001b[39m\u001b[38;5;124m\"\u001b[39m\u001b[38;5;132;01m{\u001b[39;00mfunc\u001b[38;5;132;01m}\u001b[39;00m\u001b[38;5;124m must return None or a tuple of (new_args, new_kwargs), but got \u001b[39m\u001b[38;5;132;01m{\u001b[39;00mresult\u001b[38;5;132;01m}\u001b[39;00m\u001b[38;5;124m.\u001b[39m\u001b[38;5;124m\"\u001b[39m\n\u001b[1;32m    383\u001b[0m             )\n\u001b[0;32m--> 385\u001b[0m out \u001b[38;5;241m=\u001b[39m func(\u001b[38;5;241m*\u001b[39margs, \u001b[38;5;241m*\u001b[39m\u001b[38;5;241m*\u001b[39mkwargs)\n\u001b[1;32m    386\u001b[0m \u001b[38;5;28mself\u001b[39m\u001b[38;5;241m.\u001b[39m_optimizer_step_code()\n\u001b[1;32m    388\u001b[0m \u001b[38;5;66;03m# call optimizer step post hooks\u001b[39;00m\n",
      "File \u001b[0;32m~/anaconda3/lib/python3.11/site-packages/torch/optim/optimizer.py:76\u001b[0m, in \u001b[0;36m_use_grad_for_differentiable.<locals>._use_grad\u001b[0;34m(self, *args, **kwargs)\u001b[0m\n\u001b[1;32m     74\u001b[0m     torch\u001b[38;5;241m.\u001b[39mset_grad_enabled(\u001b[38;5;28mself\u001b[39m\u001b[38;5;241m.\u001b[39mdefaults[\u001b[38;5;124m'\u001b[39m\u001b[38;5;124mdifferentiable\u001b[39m\u001b[38;5;124m'\u001b[39m])\n\u001b[1;32m     75\u001b[0m     torch\u001b[38;5;241m.\u001b[39m_dynamo\u001b[38;5;241m.\u001b[39mgraph_break()\n\u001b[0;32m---> 76\u001b[0m     ret \u001b[38;5;241m=\u001b[39m func(\u001b[38;5;28mself\u001b[39m, \u001b[38;5;241m*\u001b[39margs, \u001b[38;5;241m*\u001b[39m\u001b[38;5;241m*\u001b[39mkwargs)\n\u001b[1;32m     77\u001b[0m \u001b[38;5;28;01mfinally\u001b[39;00m:\n\u001b[1;32m     78\u001b[0m     torch\u001b[38;5;241m.\u001b[39m_dynamo\u001b[38;5;241m.\u001b[39mgraph_break()\n",
      "File \u001b[0;32m~/anaconda3/lib/python3.11/site-packages/torch/optim/adam.py:157\u001b[0m, in \u001b[0;36mAdam.step\u001b[0;34m(self, closure)\u001b[0m\n\u001b[1;32m    154\u001b[0m     state_steps \u001b[38;5;241m=\u001b[39m []\n\u001b[1;32m    155\u001b[0m     beta1, beta2 \u001b[38;5;241m=\u001b[39m group[\u001b[38;5;124m'\u001b[39m\u001b[38;5;124mbetas\u001b[39m\u001b[38;5;124m'\u001b[39m]\n\u001b[0;32m--> 157\u001b[0m     has_complex \u001b[38;5;241m=\u001b[39m \u001b[38;5;28mself\u001b[39m\u001b[38;5;241m.\u001b[39m_init_group(\n\u001b[1;32m    158\u001b[0m         group,\n\u001b[1;32m    159\u001b[0m         params_with_grad,\n\u001b[1;32m    160\u001b[0m         grads,\n\u001b[1;32m    161\u001b[0m         exp_avgs,\n\u001b[1;32m    162\u001b[0m         exp_avg_sqs,\n\u001b[1;32m    163\u001b[0m         max_exp_avg_sqs,\n\u001b[1;32m    164\u001b[0m         state_steps)\n\u001b[1;32m    166\u001b[0m     adam(\n\u001b[1;32m    167\u001b[0m         params_with_grad,\n\u001b[1;32m    168\u001b[0m         grads,\n\u001b[0;32m   (...)\u001b[0m\n\u001b[1;32m    186\u001b[0m         found_inf\u001b[38;5;241m=\u001b[39m\u001b[38;5;28mgetattr\u001b[39m(\u001b[38;5;28mself\u001b[39m, \u001b[38;5;124m\"\u001b[39m\u001b[38;5;124mfound_inf\u001b[39m\u001b[38;5;124m\"\u001b[39m, \u001b[38;5;28;01mNone\u001b[39;00m),\n\u001b[1;32m    187\u001b[0m     )\n\u001b[1;32m    189\u001b[0m \u001b[38;5;28;01mreturn\u001b[39;00m loss\n",
      "File \u001b[0;32m~/anaconda3/lib/python3.11/site-packages/torch/optim/adam.py:80\u001b[0m, in \u001b[0;36mAdam._init_group\u001b[0;34m(self, group, params_with_grad, grads, exp_avgs, exp_avg_sqs, max_exp_avg_sqs, state_steps)\u001b[0m\n\u001b[1;32m     77\u001b[0m         \u001b[38;5;28;01mfor\u001b[39;00m s \u001b[38;5;129;01min\u001b[39;00m state_values:\n\u001b[1;32m     78\u001b[0m             s[\u001b[38;5;124m'\u001b[39m\u001b[38;5;124mstep\u001b[39m\u001b[38;5;124m'\u001b[39m] \u001b[38;5;241m=\u001b[39m torch\u001b[38;5;241m.\u001b[39mtensor(\u001b[38;5;28mfloat\u001b[39m(s[\u001b[38;5;124m'\u001b[39m\u001b[38;5;124mstep\u001b[39m\u001b[38;5;124m'\u001b[39m]), dtype\u001b[38;5;241m=\u001b[39mtorch\u001b[38;5;241m.\u001b[39mfloat32)\n\u001b[0;32m---> 80\u001b[0m \u001b[38;5;28;01mdef\u001b[39;00m \u001b[38;5;21m_init_group\u001b[39m(\n\u001b[1;32m     81\u001b[0m     \u001b[38;5;28mself\u001b[39m,\n\u001b[1;32m     82\u001b[0m     group,\n\u001b[1;32m     83\u001b[0m     params_with_grad,\n\u001b[1;32m     84\u001b[0m     grads,\n\u001b[1;32m     85\u001b[0m     exp_avgs,\n\u001b[1;32m     86\u001b[0m     exp_avg_sqs,\n\u001b[1;32m     87\u001b[0m     max_exp_avg_sqs,\n\u001b[1;32m     88\u001b[0m     state_steps\n\u001b[1;32m     89\u001b[0m ):\n\u001b[1;32m     90\u001b[0m     has_complex \u001b[38;5;241m=\u001b[39m \u001b[38;5;28;01mFalse\u001b[39;00m\n\u001b[1;32m     91\u001b[0m     \u001b[38;5;28;01mfor\u001b[39;00m p \u001b[38;5;129;01min\u001b[39;00m group[\u001b[38;5;124m'\u001b[39m\u001b[38;5;124mparams\u001b[39m\u001b[38;5;124m'\u001b[39m]:\n",
      "\u001b[0;31mKeyboardInterrupt\u001b[0m: "
     ]
    }
   ],
   "source": [
    "device = torch.device(\"cuda\" if torch.cuda.is_available() else \"cpu\")\n",
    "\n",
    "# Assuming `train_vocab` is defined and we have `data_train` and `data_val` datasets ready\n",
    "vocab_size = len(train_vocab)  # Ensure the vocab size is correct\n",
    "embedding_dim = 100  # Dimensionality of embedding space\n",
    "hidden_dim = 300  # Dimensionality of MLP hidden layer\n",
    "\n",
    "# Create the MLP model instance\n",
    "model3 = MLPAttentionModel(vocab_size, embedding_dim, hidden_dim)\n",
    "\n",
    "model3.to(device)\n",
    "data_loader = DataLoader(data_train, batch_size=64, shuffle=True)\n",
    "val_loader = DataLoader(data_val, batch_size=64, shuffle=False)\n",
    "\n",
    "# Training the model\n",
    "train_model(model3, data_loader, val_loader, device, n_epochs=20)"
   ]
  },
  {
   "cell_type": "code",
   "execution_count": null,
   "id": "3daddc1f-a04d-485b-82d0-9e1e20c7e428",
   "metadata": {},
   "outputs": [],
   "source": [
    "def evaluate_model(model, data_loader, device):\n",
    "    model.eval()\n",
    "    all_preds = []\n",
    "    all_targets = []\n",
    "    with torch.no_grad():\n",
    "        for contexts, targets in data_loader:\n",
    "            contexts, targets = contexts.to(device), targets.to(device)\n",
    "            outputs = model(contexts)\n",
    "            _, predicted = torch.max(outputs, dim=1)\n",
    "            all_preds.extend(predicted.cpu().numpy())\n",
    "            all_targets.extend(targets.cpu().numpy())\n",
    "    \n",
    "    print(classification_report(all_targets, all_preds, target_names=BE_HAVE_CONJUGATIONS))\n",
    "    cm = confusion_matrix(all_targets, all_preds)\n",
    "    return cm\n",
    "\n",
    "def plot_confusion_matrix(cm, classes, normalize=False, title='Confusion matrix', cmap=plt.cm.Blues):\n",
    "    \"\"\"\n",
    "    This function prints and plots the confusion matrix.\n",
    "    Normalization can be applied by setting `normalize=True`.\n",
    "    \"\"\"\n",
    "    import matplotlib.pyplot as plt\n",
    "    import itertools\n",
    "    \n",
    "    if normalize:\n",
    "        cm = cm.astype('float') / cm.sum(axis=1)[:, np.newaxis]\n",
    "        print(\"Normalized confusion matrix\")\n",
    "    else:\n",
    "        print('Confusion matrix, without normalization')\n",
    "\n",
    "    plt.imshow(cm, interpolation='nearest', cmap=cmap)\n",
    "    plt.title(title)\n",
    "    plt.colorbar()\n",
    "    tick_marks = np.arange(len(classes))\n",
    "    plt.xticks(tick_marks, classes, rotation=45)\n",
    "    plt.yticks(tick_marks, classes)\n",
    "\n",
    "    fmt = '.2f' if normalize else 'd'\n",
    "    thresh = cm.max() / 2.\n",
    "    for i, j in itertools.product(range(cm.shape[0]), range(cm.shape[1])):\n",
    "        plt.text(j, i, format(cm[i, j], fmt),\n",
    "                 horizontalalignment=\"center\",\n",
    "                 color=\"white\" if cm[i, j] > thresh else \"black\")\n",
    "\n",
    "    plt.tight_layout()\n",
    "    plt.ylabel('True label')\n",
    "    plt.xlabel('Predicted label')\n",
    "    plt.show()\n",
    "\n",
    "# Evaluate the best model\n",
    "cm = evaluate_model(model2, test_loader, device)\n",
    "plot_confusion_matrix(model2, BE_HAVE_CONJUGATIONS)"
   ]
  },
  {
   "cell_type": "code",
   "execution_count": 128,
   "id": "2822ea80-4821-4929-8a26-b1c0d4476abe",
   "metadata": {},
   "outputs": [
    {
     "name": "stdout",
     "output_type": "stream",
     "text": [
      "['They are waiting for the bus for over an hour', 'He are very happy now', 'I are 20 years old since may', 'They are one book', 'We are late', 'They are been waiting for the bus for over an hour']\n"
     ]
    }
   ],
   "source": [
    "# Assume model is trained and we have a mapping from targets to indices\n",
    "target_mapping = {\"be\": 0, \"am\": 1, \"are\": 2, \"is\": 3, \"was\": 4, \"were\": 5, \"been\": 6,\n",
    "                  \"being\": 7, \"have\": 8, \"has\": 9, \"had\": 10, \"having\": 11}\n",
    "\n",
    "# Function to map indices back to targets\n",
    "inv_target_mapping = {v: k for k, v in target_mapping.items()}\n",
    "\n",
    "def preprocess_context(sentence):\n",
    "    tokens = tokenize(sentence)\n",
    "    context_indices = [train_vocab[token] for token in tokens if token in train_vocab]\n",
    "    return context_indices\n",
    "\n",
    "def predict_blank(sentence):\n",
    "    model3.eval()\n",
    "    context_indices = preprocess_context(sentence)\n",
    "    if len(context_indices) < CONTEXT_SIZE:\n",
    "        return \"Insufficient context\"\n",
    "    context_tensor = torch.tensor([context_indices[:CONTEXT_SIZE]], dtype=torch.long).to(device)\n",
    "    output = model3(context_tensor)\n",
    "    _, predicted_index = torch.max(output, 1)\n",
    "    return inv_target_mapping[predicted_index.item()]\n",
    "\n",
    "\n",
    "sentences = [\n",
    "        \"They [blank] waiting for the bus for over an hour\",\n",
    "    \"He [blank] very happy now\",\n",
    "    \"I [blank] 20 years old since may\",\n",
    "    \"They [blank] one book\",\n",
    "    \"We [blank] late\",\n",
    "    \"They [blank] been waiting for the bus for over an hour\"]\n",
    "\n",
    "# Prediction for each sentence\n",
    "predicted_sentences = [s.replace(\"[blank]\", predict_blank(s)) for s in sentences]\n",
    "print(predicted_sentences)"
   ]
  },
  {
   "cell_type": "markdown",
   "id": "64781ab9-4be5-4f75-abcb-5a44744d8eaf",
   "metadata": {},
   "source": [
    "#### Part 2.3: Text generation"
   ]
  },
  {
   "cell_type": "code",
   "execution_count": 129,
   "id": "aadee07c-6f39-487e-b129-41b3b3679503",
   "metadata": {},
   "outputs": [],
   "source": [
    "class RNNModel(nn.Module):\n",
    "    def __init__(self, vocab_size, embed_size, hidden_size, num_layers=1):\n",
    "        super(RNNModel, self).__init__()\n",
    "        self.embedding = nn.Embedding(vocab_size, embed_size)\n",
    "        self.rnn = nn.LSTM(embed_size, hidden_size, num_layers, batch_first=True)\n",
    "        self.decoder = nn.Linear(hidden_size, vocab_size)\n",
    "\n",
    "    def forward(self, x, hidden=None):\n",
    "        x = self.embedding(x)\n",
    "        output, hidden = self.rnn(x, hidden)\n",
    "        # Decode only the last output of the sequence for prediction of the next word\n",
    "        output = self.decoder(output[:, -1, :])\n",
    "        return output, hidden"
   ]
  },
  {
   "cell_type": "code",
   "execution_count": 130,
   "id": "5985edd0-d863-4e64-9a1d-620785114fc1",
   "metadata": {},
   "outputs": [],
   "source": [
    "def train_rnn_model(model, epochs, train_loader, vocab_size, device):\n",
    "    model.to(device)\n",
    "    criterion = nn.CrossEntropyLoss()\n",
    "    optimizer = torch.optim.Adam(model.parameters(), lr=0.001)\n",
    "\n",
    "    for epoch in range(epochs):\n",
    "        model.train()\n",
    "        total_loss = 0\n",
    "        for inputs, targets in train_loader:\n",
    "            inputs, targets = inputs.to(device), targets.to(device)\n",
    "            model.zero_grad()\n",
    "            output, _ = model(inputs)\n",
    "            loss = criterion(output.view(-1, vocab_size), targets.view(-1))\n",
    "            loss.backward()\n",
    "            optimizer.step()\n",
    "            total_loss += loss.item()\n",
    "\n",
    "        if epoch % 1 == 0:\n",
    "            print('Epoch: %d, Loss: %.4f' % (epoch, total_loss / len(train_loader)))"
   ]
  },
  {
   "cell_type": "code",
   "execution_count": 131,
   "id": "479c5eeb-5a8d-4bab-94cb-0aed0cd023df",
   "metadata": {},
   "outputs": [],
   "source": [
    "def beam_search(model, vocab, device, initial_text, beam_width=3, n_words=10):\n",
    "    tokenizer = get_tokenizer('basic_english')\n",
    "    initial_tokens = tokenizer(initial_text)\n",
    "    stoi = vocab.get_stoi()\n",
    "    initial_indices = [stoi[token] if token in stoi else stoi[\"<unk>\"] for token in initial_tokens]\n",
    "    sequences = [[initial_indices, 0.0, None]]  # List of indexes, starting score, y hidden final state\n",
    "    \n",
    "    for _ in range(n_words):\n",
    "        all_candidates = list()\n",
    "        for seq in sequences:\n",
    "            seq_indices, score, hidden = seq[0], seq[1], seq[2]\n",
    "            input_tensor = torch.tensor([seq_indices[-1]], dtype=torch.long).unsqueeze(0).to(device)\n",
    "            with torch.no_grad():\n",
    "                output, hidden = model(input_tensor, hidden)\n",
    "            softmax_scores = F.log_softmax(output, dim=-1)\n",
    "            top_indices = torch.topk(softmax_scores, beam_width, dim=-1)[1][0].tolist()\n",
    "            \n",
    "            for idx in top_indices:\n",
    "                candidate_score = score - softmax_scores[0, idx].item()\n",
    "                candidate = [seq_indices + [idx], candidate_score, hidden]\n",
    "                all_candidates.append(candidate)\n",
    "        \n",
    "        # Select best candidates based on score\n",
    "        ordered = sorted(all_candidates, key=lambda tup: tup[1], reverse=True)\n",
    "        sequences = ordered[:beam_width]\n",
    "\n",
    "    itos = vocab.get_itos()\n",
    "    return [' '.join(itos[idx] for idx in seq[0]) for seq in sequences]"
   ]
  },
  {
   "cell_type": "code",
   "execution_count": 133,
   "id": "18fe17a1-f61d-4a35-9106-578571e9921d",
   "metadata": {},
   "outputs": [
    {
     "ename": "KeyboardInterrupt",
     "evalue": "",
     "output_type": "error",
     "traceback": [
      "\u001b[0;31m---------------------------------------------------------------------------\u001b[0m",
      "\u001b[0;31mKeyboardInterrupt\u001b[0m                         Traceback (most recent call last)",
      "Cell \u001b[0;32mIn[133], line 13\u001b[0m\n\u001b[1;32m     10\u001b[0m train_loader \u001b[38;5;241m=\u001b[39m DataLoader(data_train, batch_size\u001b[38;5;241m=\u001b[39m\u001b[38;5;241m64\u001b[39m, shuffle\u001b[38;5;241m=\u001b[39m\u001b[38;5;28;01mTrue\u001b[39;00m)\n\u001b[1;32m     12\u001b[0m \u001b[38;5;66;03m# Entrenar modelo (se presupone que ya tienes un DataLoader configurado)\u001b[39;00m\n\u001b[0;32m---> 13\u001b[0m train_rnn_model(rnn_model, \u001b[38;5;241m10\u001b[39m, train_loader, vocab_size, device)\n",
      "Cell \u001b[0;32mIn[130], line 15\u001b[0m, in \u001b[0;36mtrain_rnn_model\u001b[0;34m(model, epochs, train_loader, vocab_size, device)\u001b[0m\n\u001b[1;32m     13\u001b[0m     loss \u001b[38;5;241m=\u001b[39m criterion(output\u001b[38;5;241m.\u001b[39mview(\u001b[38;5;241m-\u001b[39m\u001b[38;5;241m1\u001b[39m, vocab_size), targets\u001b[38;5;241m.\u001b[39mview(\u001b[38;5;241m-\u001b[39m\u001b[38;5;241m1\u001b[39m))\n\u001b[1;32m     14\u001b[0m     loss\u001b[38;5;241m.\u001b[39mbackward()\n\u001b[0;32m---> 15\u001b[0m     optimizer\u001b[38;5;241m.\u001b[39mstep()\n\u001b[1;32m     16\u001b[0m     total_loss \u001b[38;5;241m+\u001b[39m\u001b[38;5;241m=\u001b[39m loss\u001b[38;5;241m.\u001b[39mitem()\n\u001b[1;32m     18\u001b[0m \u001b[38;5;28;01mif\u001b[39;00m epoch \u001b[38;5;241m%\u001b[39m \u001b[38;5;241m1\u001b[39m \u001b[38;5;241m==\u001b[39m \u001b[38;5;241m0\u001b[39m:\n",
      "File \u001b[0;32m~/anaconda3/lib/python3.11/site-packages/torch/optim/optimizer.py:385\u001b[0m, in \u001b[0;36mOptimizer.profile_hook_step.<locals>.wrapper\u001b[0;34m(*args, **kwargs)\u001b[0m\n\u001b[1;32m    380\u001b[0m         \u001b[38;5;28;01melse\u001b[39;00m:\n\u001b[1;32m    381\u001b[0m             \u001b[38;5;28;01mraise\u001b[39;00m \u001b[38;5;167;01mRuntimeError\u001b[39;00m(\n\u001b[1;32m    382\u001b[0m                 \u001b[38;5;124mf\u001b[39m\u001b[38;5;124m\"\u001b[39m\u001b[38;5;132;01m{\u001b[39;00mfunc\u001b[38;5;132;01m}\u001b[39;00m\u001b[38;5;124m must return None or a tuple of (new_args, new_kwargs), but got \u001b[39m\u001b[38;5;132;01m{\u001b[39;00mresult\u001b[38;5;132;01m}\u001b[39;00m\u001b[38;5;124m.\u001b[39m\u001b[38;5;124m\"\u001b[39m\n\u001b[1;32m    383\u001b[0m             )\n\u001b[0;32m--> 385\u001b[0m out \u001b[38;5;241m=\u001b[39m func(\u001b[38;5;241m*\u001b[39margs, \u001b[38;5;241m*\u001b[39m\u001b[38;5;241m*\u001b[39mkwargs)\n\u001b[1;32m    386\u001b[0m \u001b[38;5;28mself\u001b[39m\u001b[38;5;241m.\u001b[39m_optimizer_step_code()\n\u001b[1;32m    388\u001b[0m \u001b[38;5;66;03m# call optimizer step post hooks\u001b[39;00m\n",
      "File \u001b[0;32m~/anaconda3/lib/python3.11/site-packages/torch/optim/optimizer.py:76\u001b[0m, in \u001b[0;36m_use_grad_for_differentiable.<locals>._use_grad\u001b[0;34m(self, *args, **kwargs)\u001b[0m\n\u001b[1;32m     74\u001b[0m     torch\u001b[38;5;241m.\u001b[39mset_grad_enabled(\u001b[38;5;28mself\u001b[39m\u001b[38;5;241m.\u001b[39mdefaults[\u001b[38;5;124m'\u001b[39m\u001b[38;5;124mdifferentiable\u001b[39m\u001b[38;5;124m'\u001b[39m])\n\u001b[1;32m     75\u001b[0m     torch\u001b[38;5;241m.\u001b[39m_dynamo\u001b[38;5;241m.\u001b[39mgraph_break()\n\u001b[0;32m---> 76\u001b[0m     ret \u001b[38;5;241m=\u001b[39m func(\u001b[38;5;28mself\u001b[39m, \u001b[38;5;241m*\u001b[39margs, \u001b[38;5;241m*\u001b[39m\u001b[38;5;241m*\u001b[39mkwargs)\n\u001b[1;32m     77\u001b[0m \u001b[38;5;28;01mfinally\u001b[39;00m:\n\u001b[1;32m     78\u001b[0m     torch\u001b[38;5;241m.\u001b[39m_dynamo\u001b[38;5;241m.\u001b[39mgraph_break()\n",
      "File \u001b[0;32m~/anaconda3/lib/python3.11/site-packages/torch/optim/adam.py:166\u001b[0m, in \u001b[0;36mAdam.step\u001b[0;34m(self, closure)\u001b[0m\n\u001b[1;32m    155\u001b[0m     beta1, beta2 \u001b[38;5;241m=\u001b[39m group[\u001b[38;5;124m'\u001b[39m\u001b[38;5;124mbetas\u001b[39m\u001b[38;5;124m'\u001b[39m]\n\u001b[1;32m    157\u001b[0m     has_complex \u001b[38;5;241m=\u001b[39m \u001b[38;5;28mself\u001b[39m\u001b[38;5;241m.\u001b[39m_init_group(\n\u001b[1;32m    158\u001b[0m         group,\n\u001b[1;32m    159\u001b[0m         params_with_grad,\n\u001b[0;32m   (...)\u001b[0m\n\u001b[1;32m    163\u001b[0m         max_exp_avg_sqs,\n\u001b[1;32m    164\u001b[0m         state_steps)\n\u001b[0;32m--> 166\u001b[0m     adam(\n\u001b[1;32m    167\u001b[0m         params_with_grad,\n\u001b[1;32m    168\u001b[0m         grads,\n\u001b[1;32m    169\u001b[0m         exp_avgs,\n\u001b[1;32m    170\u001b[0m         exp_avg_sqs,\n\u001b[1;32m    171\u001b[0m         max_exp_avg_sqs,\n\u001b[1;32m    172\u001b[0m         state_steps,\n\u001b[1;32m    173\u001b[0m         amsgrad\u001b[38;5;241m=\u001b[39mgroup[\u001b[38;5;124m'\u001b[39m\u001b[38;5;124mamsgrad\u001b[39m\u001b[38;5;124m'\u001b[39m],\n\u001b[1;32m    174\u001b[0m         has_complex\u001b[38;5;241m=\u001b[39mhas_complex,\n\u001b[1;32m    175\u001b[0m         beta1\u001b[38;5;241m=\u001b[39mbeta1,\n\u001b[1;32m    176\u001b[0m         beta2\u001b[38;5;241m=\u001b[39mbeta2,\n\u001b[1;32m    177\u001b[0m         lr\u001b[38;5;241m=\u001b[39mgroup[\u001b[38;5;124m'\u001b[39m\u001b[38;5;124mlr\u001b[39m\u001b[38;5;124m'\u001b[39m],\n\u001b[1;32m    178\u001b[0m         weight_decay\u001b[38;5;241m=\u001b[39mgroup[\u001b[38;5;124m'\u001b[39m\u001b[38;5;124mweight_decay\u001b[39m\u001b[38;5;124m'\u001b[39m],\n\u001b[1;32m    179\u001b[0m         eps\u001b[38;5;241m=\u001b[39mgroup[\u001b[38;5;124m'\u001b[39m\u001b[38;5;124meps\u001b[39m\u001b[38;5;124m'\u001b[39m],\n\u001b[1;32m    180\u001b[0m         maximize\u001b[38;5;241m=\u001b[39mgroup[\u001b[38;5;124m'\u001b[39m\u001b[38;5;124mmaximize\u001b[39m\u001b[38;5;124m'\u001b[39m],\n\u001b[1;32m    181\u001b[0m         foreach\u001b[38;5;241m=\u001b[39mgroup[\u001b[38;5;124m'\u001b[39m\u001b[38;5;124mforeach\u001b[39m\u001b[38;5;124m'\u001b[39m],\n\u001b[1;32m    182\u001b[0m         capturable\u001b[38;5;241m=\u001b[39mgroup[\u001b[38;5;124m'\u001b[39m\u001b[38;5;124mcapturable\u001b[39m\u001b[38;5;124m'\u001b[39m],\n\u001b[1;32m    183\u001b[0m         differentiable\u001b[38;5;241m=\u001b[39mgroup[\u001b[38;5;124m'\u001b[39m\u001b[38;5;124mdifferentiable\u001b[39m\u001b[38;5;124m'\u001b[39m],\n\u001b[1;32m    184\u001b[0m         fused\u001b[38;5;241m=\u001b[39mgroup[\u001b[38;5;124m'\u001b[39m\u001b[38;5;124mfused\u001b[39m\u001b[38;5;124m'\u001b[39m],\n\u001b[1;32m    185\u001b[0m         grad_scale\u001b[38;5;241m=\u001b[39m\u001b[38;5;28mgetattr\u001b[39m(\u001b[38;5;28mself\u001b[39m, \u001b[38;5;124m\"\u001b[39m\u001b[38;5;124mgrad_scale\u001b[39m\u001b[38;5;124m\"\u001b[39m, \u001b[38;5;28;01mNone\u001b[39;00m),\n\u001b[1;32m    186\u001b[0m         found_inf\u001b[38;5;241m=\u001b[39m\u001b[38;5;28mgetattr\u001b[39m(\u001b[38;5;28mself\u001b[39m, \u001b[38;5;124m\"\u001b[39m\u001b[38;5;124mfound_inf\u001b[39m\u001b[38;5;124m\"\u001b[39m, \u001b[38;5;28;01mNone\u001b[39;00m),\n\u001b[1;32m    187\u001b[0m     )\n\u001b[1;32m    189\u001b[0m \u001b[38;5;28;01mreturn\u001b[39;00m loss\n",
      "File \u001b[0;32m~/anaconda3/lib/python3.11/site-packages/torch/optim/adam.py:316\u001b[0m, in \u001b[0;36madam\u001b[0;34m(params, grads, exp_avgs, exp_avg_sqs, max_exp_avg_sqs, state_steps, foreach, capturable, differentiable, fused, grad_scale, found_inf, has_complex, amsgrad, beta1, beta2, lr, weight_decay, eps, maximize)\u001b[0m\n\u001b[1;32m    313\u001b[0m \u001b[38;5;28;01melse\u001b[39;00m:\n\u001b[1;32m    314\u001b[0m     func \u001b[38;5;241m=\u001b[39m _single_tensor_adam\n\u001b[0;32m--> 316\u001b[0m func(params,\n\u001b[1;32m    317\u001b[0m      grads,\n\u001b[1;32m    318\u001b[0m      exp_avgs,\n\u001b[1;32m    319\u001b[0m      exp_avg_sqs,\n\u001b[1;32m    320\u001b[0m      max_exp_avg_sqs,\n\u001b[1;32m    321\u001b[0m      state_steps,\n\u001b[1;32m    322\u001b[0m      amsgrad\u001b[38;5;241m=\u001b[39mamsgrad,\n\u001b[1;32m    323\u001b[0m      has_complex\u001b[38;5;241m=\u001b[39mhas_complex,\n\u001b[1;32m    324\u001b[0m      beta1\u001b[38;5;241m=\u001b[39mbeta1,\n\u001b[1;32m    325\u001b[0m      beta2\u001b[38;5;241m=\u001b[39mbeta2,\n\u001b[1;32m    326\u001b[0m      lr\u001b[38;5;241m=\u001b[39mlr,\n\u001b[1;32m    327\u001b[0m      weight_decay\u001b[38;5;241m=\u001b[39mweight_decay,\n\u001b[1;32m    328\u001b[0m      eps\u001b[38;5;241m=\u001b[39meps,\n\u001b[1;32m    329\u001b[0m      maximize\u001b[38;5;241m=\u001b[39mmaximize,\n\u001b[1;32m    330\u001b[0m      capturable\u001b[38;5;241m=\u001b[39mcapturable,\n\u001b[1;32m    331\u001b[0m      differentiable\u001b[38;5;241m=\u001b[39mdifferentiable,\n\u001b[1;32m    332\u001b[0m      grad_scale\u001b[38;5;241m=\u001b[39mgrad_scale,\n\u001b[1;32m    333\u001b[0m      found_inf\u001b[38;5;241m=\u001b[39mfound_inf)\n",
      "File \u001b[0;32m~/anaconda3/lib/python3.11/site-packages/torch/optim/adam.py:441\u001b[0m, in \u001b[0;36m_single_tensor_adam\u001b[0;34m(params, grads, exp_avgs, exp_avg_sqs, max_exp_avg_sqs, state_steps, grad_scale, found_inf, amsgrad, has_complex, beta1, beta2, lr, weight_decay, eps, maximize, capturable, differentiable)\u001b[0m\n\u001b[1;32m    438\u001b[0m     \u001b[38;5;28;01melse\u001b[39;00m:\n\u001b[1;32m    439\u001b[0m         denom \u001b[38;5;241m=\u001b[39m (exp_avg_sq\u001b[38;5;241m.\u001b[39msqrt() \u001b[38;5;241m/\u001b[39m bias_correction2_sqrt)\u001b[38;5;241m.\u001b[39madd_(eps)\n\u001b[0;32m--> 441\u001b[0m     param\u001b[38;5;241m.\u001b[39maddcdiv_(exp_avg, denom, value\u001b[38;5;241m=\u001b[39m\u001b[38;5;241m-\u001b[39mstep_size)\n\u001b[1;32m    443\u001b[0m \u001b[38;5;66;03m# Lastly, switch back to complex view\u001b[39;00m\n\u001b[1;32m    444\u001b[0m \u001b[38;5;28;01mif\u001b[39;00m amsgrad \u001b[38;5;129;01mand\u001b[39;00m torch\u001b[38;5;241m.\u001b[39mis_complex(params[i]):\n",
      "\u001b[0;31mKeyboardInterrupt\u001b[0m: "
     ]
    }
   ],
   "source": [
    "# Set the hyperparameters\n",
    "vocab_size = len(train_vocab)\n",
    "embed_size = 50  # Debe coincidir con el tamaño del embedding utilizado en el entrenamiento\n",
    "hidden_size = 300\n",
    "num_layers = 3\n",
    "device = torch.device(\"cuda\" if torch.cuda.is_available() else \"cpu\")\n",
    "\n",
    "# Initialize model\n",
    "rnn_model = RNNModel(vocab_size, embed_size, hidden_size, num_layers)\n",
    "train_loader = DataLoader(data_train, batch_size=64, shuffle=True)\n",
    "\n",
    "# Train model\n",
    "train_rnn_model(rnn_model, 10, train_loader, vocab_size, device)"
   ]
  },
  {
   "cell_type": "code",
   "execution_count": 147,
   "id": "841d25e0-25af-4368-b574-8989a6bc0d57",
   "metadata": {},
   "outputs": [
    {
     "name": "stdout",
     "output_type": "stream",
     "text": [
      "the man has discovered suddenly tells happy suddenly\n",
      "the man has discovered suddenly tells happy happy\n",
      "the man has discovered lines happy happy winter\n",
      "the man has discovered lines happy happy happy\n",
      "the man has discovered suddenly tells winter happy\n"
     ]
    }
   ],
   "source": [
    "# Play with the network to see how badly it generates text :).\n",
    "initial_text = \"The man has\"\n",
    "generated_texts = beam_search(rnn_model, train_vocab, device, initial_text, beam_width=5, n_words=5)\n",
    "for text in generated_texts:\n",
    "    print(text)"
   ]
  },
  {
   "cell_type": "code",
   "execution_count": null,
   "id": "dc63e970-be3b-4370-a7ba-f07a3b72d917",
   "metadata": {},
   "outputs": [],
   "source": []
  },
  {
   "cell_type": "markdown",
   "id": "863ab29b-d70b-43a9-9c43-b6e7c43d22b9",
   "metadata": {},
   "source": []
  },
  {
   "cell_type": "markdown",
   "id": "a5989fa1-7235-420b-bd59-7e1379940934",
   "metadata": {},
   "source": []
  },
  {
   "cell_type": "code",
   "execution_count": null,
   "id": "92de09b1-9e46-427d-aa70-e8eeac855949",
   "metadata": {},
   "outputs": [],
   "source": []
  }
 ],
 "metadata": {
  "kernelspec": {
   "display_name": "Python 3 (ipykernel)",
   "language": "python",
   "name": "python3"
  },
  "language_info": {
   "codemirror_mode": {
    "name": "ipython",
    "version": 3
   },
   "file_extension": ".py",
   "mimetype": "text/x-python",
   "name": "python",
   "nbconvert_exporter": "python",
   "pygments_lexer": "ipython3",
   "version": "3.10.0"
  }
 },
 "nbformat": 4,
 "nbformat_minor": 5
}
